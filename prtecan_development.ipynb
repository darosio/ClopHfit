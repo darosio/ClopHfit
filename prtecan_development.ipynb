{
 "cells": [
  {
   "cell_type": "markdown",
   "metadata": {},
   "source": [
    "# PRTECAN Module Deep Dive Tutorial\n",
    "\n",
    "This tutorial explores the `prtecan` module for processing Tecan plate reader data with a focus on:\n",
    "- File parsing and data structures\n",
    "- Titration curve analysis\n",
    "- Advanced fitting capabilities\n",
    "- Visualization techniques"
   ]
  },
  {
   "cell_type": "code",
   "execution_count": null,
   "metadata": {},
   "outputs": [],
   "source": [
    "# Magic commands for development\n",
    "%load_ext autoreload\n",
    "%autoreload 2\n",
    "\n",
    "# Setup\n",
    "from pathlib import Path\n",
    "\n",
    "import arviz as az\n",
    "import matplotlib.pyplot as plt\n",
    "\n",
    "from clophfit import prtecan\n",
    "from clophfit.fitting.bayes import (\n",
    "    fit_binding_pymc,\n",
    "    fit_binding_pymc_compare,\n",
    ")\n",
    "from clophfit.fitting.core import (\n",
    "    fit_binding_glob,\n",
    "    fit_binding_glob_reweighted,\n",
    "    outlier2,\n",
    ")\n",
    "\n",
    "# Configure notebook\n",
    "%matplotlib inline\n",
    "plt.style.use(\"seaborn-v0_8\")\n",
    "\n",
    "\n",
    "def output_fr(fr):\n",
    "    print(\"Reduced X2:\", fr.result.redchi)\n",
    "    print(\"y_err_y1, y_err_y2:\", (ds[\"y1\"].y_err.mean(), ds[\"y2\"].y_err.mean()))\n",
    "    print(fr.dataset)\n",
    "    return fr.figure\n",
    "\n",
    "\n",
    "data_dir = Path(\"../../tests/Tecan/140220\")"
   ]
  },
  {
   "cell_type": "code",
   "execution_count": null,
   "metadata": {},
   "outputs": [],
   "source": [
    "from realistic_synthetic_data import generate_realistic_dataset, RealisticSimulationParameters"
   ]
  },
  {
   "cell_type": "code",
   "execution_count": null,
   "metadata": {},
   "outputs": [],
   "source": [
    "import clophfit"
   ]
  },
  {
   "cell_type": "code",
   "execution_count": null,
   "metadata": {},
   "outputs": [],
   "source": [
    "params = RealisticSimulationParameters(outlier_probability=0.8, outlier_magnitude=10)\n",
    "ds = generate_realistic_dataset(params)\n",
    "print(ds)\n",
    "clophfit.fitting.core.fit_lm(ds, robust=1).figure"
   ]
  },
  {
   "cell_type": "markdown",
   "metadata": {},
   "source": [
    "## 4. Fitting Framework\n",
    "\n",
    "test:\n",
    "- E10\n",
    "- F10\n",
    "- G09\n",
    "\n",
    "TODO:\n",
    "\n",
    "- simulate ds with\n",
    "  - sigma1=100 sigma2=10\n",
    "  - y1 with random outliers at pH < 6\n",
    "  - extra buffer shift\n",
    "  - heteroscedatic and omoscedastic error\n",
    "\n",
    "- compare all functions\n",
    "      "
   ]
  },
  {
   "cell_type": "code",
   "execution_count": null,
   "metadata": {},
   "outputs": [],
   "source": [
    "# data_dir = Path(\"../../tests/Tecan/140220\")\n",
    "data_dir = Path(\"/home/dati/arslanbaeva/data/raw/L2/\")\n",
    "\n",
    "tit = prtecan.Titration.fromlistfile(data_dir / \"list.pH.csv\", is_ph=1)\n",
    "tit.load_additions(data_dir / \"additions.pH\")\n",
    "tit.load_scheme(data_dir / \"scheme.txt\")\n",
    "tit.params.bg_mth = \"meansd\"\n",
    "tit.bg_err"
   ]
  },
  {
   "cell_type": "code",
   "execution_count": null,
   "metadata": {},
   "outputs": [],
   "source": [
    "tit.result_global.compute_all()"
   ]
  },
  {
   "cell_type": "code",
   "execution_count": null,
   "metadata": {},
   "outputs": [],
   "source": [
    "tit.result_global.plot_k()"
   ]
  },
  {
   "cell_type": "code",
   "execution_count": null,
   "metadata": {},
   "outputs": [],
   "source": [
    "from clophfit.testing.fitter_test_utils import make_synthetic_ds"
   ]
  },
  {
   "cell_type": "code",
   "execution_count": null,
   "metadata": {},
   "outputs": [],
   "source": [
    "ds, truth = make_synthetic_ds(\n",
    "    7, s1={\"y1\": 1000, \"y2\": 100}, s0={\"y1\": 800, \"y2\": 1200}, is_ph=1, noise=0.03\n",
    ")\n",
    "\n",
    "outlier2(ds, threshold=2.25).figure"
   ]
  },
  {
   "cell_type": "code",
   "execution_count": null,
   "metadata": {},
   "outputs": [],
   "source": [
    "tit.bg_err"
   ]
  },
  {
   "cell_type": "code",
   "execution_count": null,
   "metadata": {},
   "outputs": [],
   "source": [
    "k = \"A01\"\n",
    "\n",
    "ds = tit._create_global_ds(k)\n",
    "ds"
   ]
  },
  {
   "cell_type": "code",
   "execution_count": null,
   "metadata": {},
   "outputs": [],
   "source": [
    "output_fr(fit_binding_glob(ds))"
   ]
  },
  {
   "cell_type": "code",
   "execution_count": null,
   "metadata": {},
   "outputs": [],
   "source": [
    "fr = outlier2(ds, k, plot_z_scores=1, threshold=3.0)\n",
    "output_fr(fr)"
   ]
  },
  {
   "cell_type": "code",
   "execution_count": null,
   "metadata": {},
   "outputs": [],
   "source": [
    "fr.result.logger = 1"
   ]
  },
  {
   "cell_type": "code",
   "execution_count": null,
   "metadata": {},
   "outputs": [],
   "source": [
    "ds2 = tit._create_ds(k, 2)\n",
    "ds2"
   ]
  },
  {
   "cell_type": "code",
   "execution_count": null,
   "metadata": {},
   "outputs": [],
   "source": [
    "k = \"A01\"\n",
    "fr = tit.result_global[k]\n",
    "fr.figure"
   ]
  },
  {
   "cell_type": "code",
   "execution_count": null,
   "metadata": {},
   "outputs": [],
   "source": [
    "fr.dataset"
   ]
  },
  {
   "cell_type": "code",
   "execution_count": null,
   "metadata": {},
   "outputs": [],
   "source": [
    "{\"y1\": tit.bg_err[1].mean(), \"y2\": tit.bg_err[2].mean()}"
   ]
  },
  {
   "cell_type": "code",
   "execution_count": null,
   "metadata": {},
   "outputs": [],
   "source": [
    "n_sd = 0.15 / fr.result.params[\"K\"].stderr\n",
    "print(n_sd)\n",
    "\n",
    "# Run the model with a single noise scaling factor\n",
    "trace_single = fit_binding_pymc_compare(\n",
    "    fr,\n",
    "    {\"y1\": tit.bg_err[1].mean(), \"y2\": tit.bg_err[2].mean()},\n",
    "    n_sd=max(n_sd, 1),\n",
    "    n_xerr=0.682,\n",
    "    learn_separate_y_mag=False,\n",
    ")\n",
    "\n",
    "# Run the model with separate noise scaling factors for each label\n",
    "trace_separate = fit_binding_pymc_compare(\n",
    "    fr,\n",
    "    {\"y1\": tit.bg_err[1].mean(), \"y2\": tit.bg_err[2].mean()},\n",
    "    n_sd=max(n_sd, 1),\n",
    "    n_xerr=0.682,\n",
    "    learn_separate_y_mag=True,\n",
    ")\n",
    "trace_separate_shot = fit_binding_pymc_compare(\n",
    "    fr,\n",
    "    {\"y1\": tit.bg_err[1].mean(), \"y2\": tit.bg_err[2].mean()},\n",
    "    n_sd=max(n_sd, 1),\n",
    "    n_xerr=0.682,\n",
    "    learn_separate_y_mag=True,\n",
    ")"
   ]
  },
  {
   "cell_type": "code",
   "execution_count": null,
   "metadata": {},
   "outputs": [],
   "source": [
    "az.summary(trace_separate_shot)"
   ]
  },
  {
   "cell_type": "code",
   "execution_count": null,
   "metadata": {},
   "outputs": [],
   "source": [
    "az.summary(trace_single)"
   ]
  },
  {
   "cell_type": "code",
   "execution_count": null,
   "metadata": {},
   "outputs": [],
   "source": [
    "az.summary(trace_separate)"
   ]
  },
  {
   "cell_type": "code",
   "execution_count": null,
   "metadata": {},
   "outputs": [],
   "source": [
    "n_sd = 0.15 / fr.result.params[\"K\"].stderr\n",
    "print(n_sd)\n",
    "fr_mcmc2 = fit_binding_pymc(fr, n_sd=max(n_sd, 1), n_xerr=0.682)"
   ]
  },
  {
   "cell_type": "code",
   "execution_count": null,
   "metadata": {},
   "outputs": [],
   "source": [
    "output_fr(fr_mcmc2)\n",
    "df = az.summary(fr_mcmc2.mini)\n",
    "df"
   ]
  },
  {
   "cell_type": "code",
   "execution_count": null,
   "metadata": {},
   "outputs": [],
   "source": [
    "az.plot_trace(fr_mcmc2.mini)"
   ]
  },
  {
   "cell_type": "code",
   "execution_count": null,
   "metadata": {},
   "outputs": [],
   "source": [
    "obs_ll_vars = [f\"y_likelihood_{lbl}\" for lbl in ds]  # ds is your dict-like Dataset\n",
    "loo = az.loo(fr_mcmc2, var_name=obs_ll_vars)"
   ]
  },
  {
   "cell_type": "code",
   "execution_count": null,
   "metadata": {},
   "outputs": [],
   "source": [
    "az.loo(fr_mcmc2.mini, var_name=[\"y_likelihood_y1\", \"y_likelihood_y2\"])"
   ]
  },
  {
   "cell_type": "code",
   "execution_count": null,
   "metadata": {},
   "outputs": [],
   "source": []
  },
  {
   "cell_type": "code",
   "execution_count": null,
   "metadata": {},
   "outputs": [],
   "source": [
    "fr_mcmc2.dataset[\"y1\"]"
   ]
  },
  {
   "cell_type": "code",
   "execution_count": null,
   "metadata": {},
   "outputs": [],
   "source": [
    "# da1.mask = ~outlier_glob(fr.result.residual, plot_z_scores=1, threshold=2)"
   ]
  },
  {
   "cell_type": "code",
   "execution_count": null,
   "metadata": {},
   "outputs": [],
   "source": [
    "output_fr(fit_binding_glob_reweighted(ds, k, threshold=2.25))"
   ]
  },
  {
   "cell_type": "code",
   "execution_count": null,
   "metadata": {},
   "outputs": [],
   "source": [
    "from clophfit.fitting import core"
   ]
  },
  {
   "cell_type": "code",
   "execution_count": null,
   "metadata": {},
   "outputs": [],
   "source": [
    "output_fr(core.fit_lm(ds))"
   ]
  },
  {
   "cell_type": "code",
   "execution_count": null,
   "metadata": {},
   "outputs": [],
   "source": [
    "output_fr(core.fit_lm(ds, robust=True))"
   ]
  },
  {
   "cell_type": "code",
   "execution_count": null,
   "metadata": {},
   "outputs": [],
   "source": [
    "output_fr(core.fit_lm(ds, iterative=True))"
   ]
  },
  {
   "cell_type": "code",
   "execution_count": null,
   "metadata": {},
   "outputs": [],
   "source": [
    "output_fr(core.fit_lm(ds, outlier_threshold=1.9))"
   ]
  }
 ],
 "metadata": {
  "jupytext": {
   "formats": "ipynb,md"
  },
  "kernelspec": {
   "display_name": "Python 3 (ipykernel)",
   "language": "python",
   "name": "python3"
  },
  "language_info": {
   "codemirror_mode": {
    "name": "ipython",
    "version": 3
   },
   "file_extension": ".py",
   "mimetype": "text/x-python",
   "name": "python",
   "nbconvert_exporter": "python",
   "pygments_lexer": "ipython3",
   "version": "3.13.2"
  }
 },
 "nbformat": 4,
 "nbformat_minor": 4
}
