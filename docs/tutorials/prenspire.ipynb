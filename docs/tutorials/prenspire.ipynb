{
 "cells": [
  {
   "cell_type": "markdown",
   "metadata": {},
   "source": [
    "# Using jupyter"
   ]
  },
  {
   "cell_type": "code",
   "execution_count": 2,
   "metadata": {},
   "outputs": [],
   "source": [
    "import random\n",
    "from clophfit.prenspire import prenspire"
   ]
  },
  {
   "cell_type": "code",
   "execution_count": 2,
   "metadata": {},
   "outputs": [],
   "source": [
    "efx1 = prenspire.EnspireFile(\"../tests/EnSpire/h148g-spettroC.csv\")\n",
    "efx2 = prenspire.EnspireFile(\"../tests/EnSpire/e2dan-with_sample_column.csv\")\n",
    "efx3 = prenspire.EnspireFile(\"../tests/EnSpire/S202N-E2_pHs.csv\")"
   ]
  },
  {
   "cell_type": "code",
   "execution_count": 3,
   "metadata": {},
   "outputs": [
    {
     "data": {
      "text/plain": [
       "{'Measurement date': '2013-06-14 23:13:51',\n",
       " 'Chamber temperature at start': '19.55',\n",
       " 'Chamber temperature at end': '36.5',\n",
       " 'Ambient temperature at start': '4.7',\n",
       " 'Ambient temperature at end': '8.4',\n",
       " 'Protocol name': 'All Spectra (A+B+C+D+E)',\n",
       " 'Exported data': 'Well,Sample,MeasA:Result,MeasB:Result,MeasC:Result,MeasA:Wavelength,MeasB:Wavelength,MeasC:Wavelength,MeasD:Wavelength,MeasD:Result,MeasE:Wavelength,MeasE:Result,MeasF:Wavelength,MeasF:Result,MeasG:Wavelength,MeasG:Result,MeasH:Wavelength,MeasH:Result,MeasI:Wavelength,MeasI:Result',\n",
       " 'warnings': ['WARNING: 14.06.2013 15:55:11: Temperature stabilized to 24.45 °C. Target temperature 25.00 °C. Continuing measurement.',\n",
       "  'WARNING: 14.06.2013 19:44:41: Temperature stabilized to 36.30 °C. Target temperature 37.00 °C. Continuing measurement.']}"
      ]
     },
     "execution_count": 3,
     "metadata": {},
     "output_type": "execute_result"
    }
   ],
   "source": [
    "efx3.metadata"
   ]
  },
  {
   "cell_type": "code",
   "execution_count": 5,
   "metadata": {},
   "outputs": [
    {
     "data": {
      "text/plain": [
       "dict_keys(['_ini', '_fin', '_data_list', '_metadata_post', '_well_list_platemap', '_platemap', 'metadata', '_filename'])"
      ]
     },
     "execution_count": 5,
     "metadata": {},
     "output_type": "execute_result"
    }
   ],
   "source": [
    "efx1.__dict__.keys()"
   ]
  },
  {
   "cell_type": "code",
   "execution_count": 6,
   "metadata": {},
   "outputs": [
    {
     "data": {
      "text/plain": [
       "dict_keys(['_ini', '_fin', '_data_list', '_metadata_post', '_well_list_platemap', '_platemap', 'metadata', '_filename', 'measurements', 'wells', 'samples'])"
      ]
     },
     "execution_count": 6,
     "metadata": {},
     "output_type": "execute_result"
    }
   ],
   "source": [
    "efx1.extract_measurements()\n",
    "efx1.__dict__.keys()"
   ]
  },
  {
   "cell_type": "code",
   "execution_count": 7,
   "metadata": {},
   "outputs": [],
   "source": [
    "efx2.extract_measurements()\n",
    "efx3.extract_measurements()"
   ]
  },
  {
   "cell_type": "code",
   "execution_count": 10,
   "metadata": {},
   "outputs": [
    {
     "data": {
      "text/plain": [
       "(['A01', 'A02', 'A03', 'A04'], ['UNK1', 'UNK2', 'UNK3', 'UNK4'])"
      ]
     },
     "execution_count": 10,
     "metadata": {},
     "output_type": "execute_result"
    }
   ],
   "source": [
    "efx1.wells[:4], efx3.samples[:4]"
   ]
  },
  {
   "cell_type": "code",
   "execution_count": 11,
   "metadata": {},
   "outputs": [
    {
     "data": {
      "text/plain": [
       "(dict_keys(['A']), dict_keys(['D', 'A', 'B', 'C', 'E', 'F', 'G', 'H', 'I']))"
      ]
     },
     "execution_count": 11,
     "metadata": {},
     "output_type": "execute_result"
    }
   ],
   "source": [
    "efx1.measurements.keys(), efx3.measurements.keys()"
   ]
  },
  {
   "cell_type": "markdown",
   "metadata": {},
   "source": [
    "when testing each spectra for the presence of a single wavelength in the appropriate monochromator"
   ]
  },
  {
   "cell_type": "code",
   "execution_count": 9,
   "metadata": {},
   "outputs": [
    {
     "data": {
      "text/plain": [
       "{'temp': '25',\n",
       " 'Monochromator': 'Excitation',\n",
       " 'Min wavelength': '400',\n",
       " 'Max wavelength': '510',\n",
       " 'Wavelength': '530',\n",
       " 'Using of excitation filter': 'Top',\n",
       " 'Measurement height': '8.9',\n",
       " 'Number of flashes': '50',\n",
       " 'Number of flashes integrated': '50',\n",
       " 'Flash power': '100'}"
      ]
     },
     "execution_count": 9,
     "metadata": {},
     "output_type": "execute_result"
    }
   ],
   "source": [
    "efx2.measurements[\"A\"][\"metadata\"]"
   ]
  },
  {
   "cell_type": "code",
   "execution_count": 11,
   "metadata": {},
   "outputs": [
    {
     "data": {
      "text/plain": [
       "['Well',\n",
       " 'Sample',\n",
       " 'MeasB:WavelengthExc',\n",
       " 'MeasB:WavelengthEms',\n",
       " 'MeasB:Result',\n",
       " 'MeasA:WavelengthExc',\n",
       " 'MeasA:WavelengthEms',\n",
       " 'MeasA:Result',\n",
       " 'MeasC:WavelengthExc',\n",
       " 'MeasC:WavelengthEms',\n",
       " 'MeasC:Result',\n",
       " 'MeasD:WavelengthExc',\n",
       " 'MeasD:WavelengthEms',\n",
       " 'MeasD:Result',\n",
       " 'MeasE:WavelengthExc',\n",
       " 'MeasE:WavelengthEms',\n",
       " 'MeasE:Result',\n",
       " 'MeasF:WavelengthExc',\n",
       " 'MeasF:WavelengthEms',\n",
       " 'MeasF:Result',\n",
       " 'MeasG:WavelengthExc',\n",
       " 'MeasG:WavelengthEms',\n",
       " 'MeasG:Result',\n",
       " 'MeasH:WavelengthExc',\n",
       " 'MeasH:WavelengthEms',\n",
       " 'MeasH:Result',\n",
       " '']"
      ]
     },
     "execution_count": 11,
     "metadata": {},
     "output_type": "execute_result"
    }
   ],
   "source": [
    "efx2._data_list[0]"
   ]
  },
  {
   "cell_type": "code",
   "execution_count": 9,
   "metadata": {},
   "outputs": [
    {
     "data": {
      "text/plain": [
       "[2130.0, 975.0, 2300.0, 460.0, 365.0, 2195.0, 2270.0]"
      ]
     },
     "execution_count": 9,
     "metadata": {},
     "output_type": "execute_result"
    }
   ],
   "source": [
    "random.sample(efx1.measurements[\"A\"][\"F01\"], 7)"
   ]
  },
  {
   "cell_type": "code",
   "execution_count": 10,
   "metadata": {},
   "outputs": [],
   "source": [
    "en1 = prenspire.ExpNote(\"../tests/EnSpire/h148g-spettroC-nota\")\n",
    "en3 = prenspire.ExpNote(\"../tests/EnSpire/S202N-E2_pHs-nota\")"
   ]
  },
  {
   "cell_type": "code",
   "execution_count": 11,
   "metadata": {},
   "outputs": [
    {
     "data": {
      "text/plain": [
       "['A01', 'A02', 'A03', 'A04', 'A05', 'A06', 'A07']"
      ]
     },
     "execution_count": 11,
     "metadata": {},
     "output_type": "execute_result"
    }
   ],
   "source": [
    "en3.wells[:7]"
   ]
  },
  {
   "cell_type": "code",
   "execution_count": 12,
   "metadata": {},
   "outputs": [
    {
     "data": {
      "text/plain": [
       "[['Well', 'pH', 'Cl'],\n",
       " ['A01', '4.35', '0'],\n",
       " ['A02', '4.75', '0'],\n",
       " ['A03', '5.18', '0'],\n",
       " ['A04', '5.55', '0']]"
      ]
     },
     "execution_count": 12,
     "metadata": {},
     "output_type": "execute_result"
    }
   ],
   "source": [
    "en3.note_list[:5]"
   ]
  },
  {
   "cell_type": "code",
   "execution_count": 13,
   "metadata": {},
   "outputs": [
    {
     "data": {
      "text/plain": [
       "(True, False)"
      ]
     },
     "execution_count": 13,
     "metadata": {},
     "output_type": "execute_result"
    }
   ],
   "source": [
    "en1.check_wells(efx1), en1.check_wells(efx3)"
   ]
  },
  {
   "cell_type": "code",
   "execution_count": 14,
   "metadata": {},
   "outputs": [],
   "source": [
    "en1.build_titrations(efx1)"
   ]
  },
  {
   "cell_type": "code",
   "execution_count": 15,
   "metadata": {},
   "outputs": [
    {
     "data": {
      "text/plain": [
       "dict_keys(['note_list', 'wells', 'titrations', 'pH_values'])"
      ]
     },
     "execution_count": 15,
     "metadata": {},
     "output_type": "execute_result"
    }
   ],
   "source": [
    "en1.__dict__.keys()"
   ]
  },
  {
   "cell_type": "code",
   "execution_count": 16,
   "metadata": {},
   "outputs": [
    {
     "data": {
      "text/plain": [
       "['5.2', '6.3', '7.4', '8.1', '8.2']"
      ]
     },
     "execution_count": 16,
     "metadata": {},
     "output_type": "execute_result"
    }
   ],
   "source": [
    "en1.pH_values"
   ]
  },
  {
   "cell_type": "code",
   "execution_count": 17,
   "metadata": {},
   "outputs": [],
   "source": [
    "tit0 = en1.titrations[0]\n",
    "tit1 = en1.titrations[1]"
   ]
  },
  {
   "cell_type": "code",
   "execution_count": 18,
   "metadata": {},
   "outputs": [
    {
     "data": {
      "text/plain": [
       "dict_keys(['conc', 'data', 'cl'])"
      ]
     },
     "execution_count": 18,
     "metadata": {},
     "output_type": "execute_result"
    }
   ],
   "source": [
    "tit0.__dict__.keys()"
   ]
  },
  {
   "cell_type": "code",
   "execution_count": 19,
   "metadata": {},
   "outputs": [
    {
     "data": {
      "text/plain": [
       "([5.2, 6.3, 7.4, 8.1, 8.2],\n",
       " 0,\n",
       " [0.0, 6.7, 13.3, 26.7, 40.0, 60.0, 87.0, 120.0, 267.0, 400.0, 667.0],\n",
       " '5.2')"
      ]
     },
     "execution_count": 19,
     "metadata": {},
     "output_type": "execute_result"
    }
   ],
   "source": [
    "tit0.conc, tit0.cl, tit1.conc, tit1.ph"
   ]
  },
  {
   "cell_type": "code",
   "execution_count": 20,
   "metadata": {},
   "outputs": [
    {
     "data": {
      "text/html": [
       "<div>\n",
       "<style scoped>\n",
       "    .dataframe tbody tr th:only-of-type {\n",
       "        vertical-align: middle;\n",
       "    }\n",
       "\n",
       "    .dataframe tbody tr th {\n",
       "        vertical-align: top;\n",
       "    }\n",
       "\n",
       "    .dataframe thead tr th {\n",
       "        text-align: left;\n",
       "    }\n",
       "</style>\n",
       "<table border=\"1\" class=\"dataframe\">\n",
       "  <thead>\n",
       "    <tr>\n",
       "      <th></th>\n",
       "      <th>5.2</th>\n",
       "      <th>6.3</th>\n",
       "      <th>7.4</th>\n",
       "      <th>8.1</th>\n",
       "      <th>8.2</th>\n",
       "    </tr>\n",
       "    <tr>\n",
       "      <th></th>\n",
       "      <th>A01</th>\n",
       "      <th>B01</th>\n",
       "      <th>C01</th>\n",
       "      <th>D01</th>\n",
       "      <th>E01</th>\n",
       "    </tr>\n",
       "  </thead>\n",
       "  <tbody>\n",
       "    <tr>\n",
       "      <th>272.0</th>\n",
       "      <td>3151.0</td>\n",
       "      <td>4181.0</td>\n",
       "      <td>16413.0</td>\n",
       "      <td>29192.0</td>\n",
       "      <td>28816.0</td>\n",
       "    </tr>\n",
       "    <tr>\n",
       "      <th>273.0</th>\n",
       "      <td>3130.0</td>\n",
       "      <td>4204.0</td>\n",
       "      <td>16926.0</td>\n",
       "      <td>29909.0</td>\n",
       "      <td>29545.0</td>\n",
       "    </tr>\n",
       "    <tr>\n",
       "      <th>274.0</th>\n",
       "      <td>3043.0</td>\n",
       "      <td>4232.0</td>\n",
       "      <td>17331.0</td>\n",
       "      <td>30900.0</td>\n",
       "      <td>30750.0</td>\n",
       "    </tr>\n",
       "    <tr>\n",
       "      <th>275.0</th>\n",
       "      <td>3079.0</td>\n",
       "      <td>4283.0</td>\n",
       "      <td>17680.0</td>\n",
       "      <td>31717.0</td>\n",
       "      <td>31547.0</td>\n",
       "    </tr>\n",
       "    <tr>\n",
       "      <th>276.0</th>\n",
       "      <td>2975.0</td>\n",
       "      <td>4264.0</td>\n",
       "      <td>18020.0</td>\n",
       "      <td>32564.0</td>\n",
       "      <td>32336.0</td>\n",
       "    </tr>\n",
       "    <tr>\n",
       "      <th>...</th>\n",
       "      <td>...</td>\n",
       "      <td>...</td>\n",
       "      <td>...</td>\n",
       "      <td>...</td>\n",
       "      <td>...</td>\n",
       "    </tr>\n",
       "    <tr>\n",
       "      <th>496.0</th>\n",
       "      <td>636.0</td>\n",
       "      <td>4689.0</td>\n",
       "      <td>43230.0</td>\n",
       "      <td>87203.0</td>\n",
       "      <td>87842.0</td>\n",
       "    </tr>\n",
       "    <tr>\n",
       "      <th>497.0</th>\n",
       "      <td>683.0</td>\n",
       "      <td>4923.0</td>\n",
       "      <td>45173.0</td>\n",
       "      <td>89719.0</td>\n",
       "      <td>90666.0</td>\n",
       "    </tr>\n",
       "    <tr>\n",
       "      <th>498.0</th>\n",
       "      <td>632.0</td>\n",
       "      <td>4900.0</td>\n",
       "      <td>46725.0</td>\n",
       "      <td>93452.0</td>\n",
       "      <td>94101.0</td>\n",
       "    </tr>\n",
       "    <tr>\n",
       "      <th>499.0</th>\n",
       "      <td>854.0</td>\n",
       "      <td>5140.0</td>\n",
       "      <td>48452.0</td>\n",
       "      <td>96643.0</td>\n",
       "      <td>97506.0</td>\n",
       "    </tr>\n",
       "    <tr>\n",
       "      <th>500.0</th>\n",
       "      <td>573.0</td>\n",
       "      <td>5573.0</td>\n",
       "      <td>50025.0</td>\n",
       "      <td>99847.0</td>\n",
       "      <td>100715.0</td>\n",
       "    </tr>\n",
       "  </tbody>\n",
       "</table>\n",
       "<p>229 rows × 5 columns</p>\n",
       "</div>"
      ],
      "text/plain": [
       "          5.2     6.3      7.4      8.1       8.2\n",
       "          A01     B01      C01      D01       E01\n",
       "272.0  3151.0  4181.0  16413.0  29192.0   28816.0\n",
       "273.0  3130.0  4204.0  16926.0  29909.0   29545.0\n",
       "274.0  3043.0  4232.0  17331.0  30900.0   30750.0\n",
       "275.0  3079.0  4283.0  17680.0  31717.0   31547.0\n",
       "276.0  2975.0  4264.0  18020.0  32564.0   32336.0\n",
       "...       ...     ...      ...      ...       ...\n",
       "496.0   636.0  4689.0  43230.0  87203.0   87842.0\n",
       "497.0   683.0  4923.0  45173.0  89719.0   90666.0\n",
       "498.0   632.0  4900.0  46725.0  93452.0   94101.0\n",
       "499.0   854.0  5140.0  48452.0  96643.0   97506.0\n",
       "500.0   573.0  5573.0  50025.0  99847.0  100715.0\n",
       "\n",
       "[229 rows x 5 columns]"
      ]
     },
     "execution_count": 20,
     "metadata": {},
     "output_type": "execute_result"
    }
   ],
   "source": [
    "tit0.data[\"A\"]"
   ]
  },
  {
   "cell_type": "code",
   "execution_count": 21,
   "metadata": {},
   "outputs": [
    {
     "data": {
      "image/png": "[encoded data removed]",
      "text/plain": [
       "<Figure size 432x288 with 1 Axes>"
      ]
     },
     "metadata": {
      "needs_background": "light"
     },
     "output_type": "display_data"
    }
   ],
   "source": [
    "tit0.plot()"
   ]
  },
  {
   "cell_type": "code",
   "execution_count": 22,
   "metadata": {},
   "outputs": [
    {
     "data": {
      "image/png": "[encoded data removed]",
      "text/plain": [
       "<Figure size 432x288 with 1 Axes>"
      ]
     },
     "metadata": {
      "needs_background": "light"
     },
     "output_type": "display_data"
    }
   ],
   "source": [
    "tit1.plot()"
   ]
  },
  {
   "cell_type": "code",
   "execution_count": null,
   "metadata": {},
   "outputs": [],
   "source": [
    "en3.build_titrations(efx3)\n",
    "en3.titrations[0].plot()"
   ]
  }
 ],
 "metadata": {
  "kernelspec": {
   "display_name": "Python 3 (ipykernel)",
   "language": "python",
   "name": "python3"
  },
  "language_info": {
   "codemirror_mode": {
    "name": "ipython",
    "version": 3
   },
   "file_extension": ".py",
   "mimetype": "text/x-python",
   "name": "python",
   "nbconvert_exporter": "python",
   "pygments_lexer": "ipython3",
   "version": "3.11.3"
  }
 },
 "nbformat": 4,
 "nbformat_minor": 1
}
