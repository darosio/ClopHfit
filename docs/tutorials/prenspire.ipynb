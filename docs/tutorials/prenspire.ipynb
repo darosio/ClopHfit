{
 "cells": [
  {
   "cell_type": "markdown",
   "metadata": {},
   "source": [
    "# Getting started with prenspire"
   ]
  },
  {
   "cell_type": "code",
   "execution_count": 1,
   "metadata": {},
   "outputs": [],
   "source": [
    "import random\n",
    "from pathlib import Path\n",
    "from clophfit.prenspire import prenspire\n",
    "\n",
    "%load_ext autoreload\n",
    "%autoreload 2\n",
    "tpath = Path(\"../../tests/EnSpire\")"
   ]
  },
  {
   "cell_type": "code",
   "execution_count": 2,
   "metadata": {},
   "outputs": [],
   "source": [
    "ef1 = prenspire.EnspireFile(tpath / \"h148g-spettroC.csv\")\n",
    "ef2 = prenspire.EnspireFile(tpath / \"e2-T-without_sample_column.csv\")\n",
    "ef3 = prenspire.EnspireFile(tpath / \"24well_clop0_95.csv\")"
   ]
  },
  {
   "cell_type": "code",
   "execution_count": 3,
   "metadata": {},
   "outputs": [
    {
     "data": {
      "text/plain": [
       "['A03', 'A04', 'A05', 'A06', 'B01', 'B02', 'C01', 'C02', 'C03']"
      ]
     },
     "execution_count": 3,
     "metadata": {},
     "output_type": "execute_result"
    }
   ],
   "source": [
    "ef3._well_list_platemap"
   ]
  },
  {
   "cell_type": "code",
   "execution_count": 4,
   "metadata": {},
   "outputs": [
    {
     "data": {
      "text/plain": [
       "['A03', 'A04', 'A05', 'A06', 'B01', 'B02', 'C01', 'C02', 'C03']"
      ]
     },
     "execution_count": 4,
     "metadata": {},
     "output_type": "execute_result"
    }
   ],
   "source": [
    "ef3.extract_measurements()\n",
    "ef3.wells"
   ]
  },
  {
   "cell_type": "code",
   "execution_count": 5,
   "metadata": {},
   "outputs": [
    {
     "data": {
      "text/plain": [
       "dict_keys(['_ini', '_fin', '_data_list', '_metadata_post', '_well_list_platemap', '_platemap', 'metadata', '_filename'])"
      ]
     },
     "execution_count": 5,
     "metadata": {},
     "output_type": "execute_result"
    }
   ],
   "source": [
    "ef1.__dict__.keys()"
   ]
  },
  {
   "cell_type": "code",
   "execution_count": 6,
   "metadata": {},
   "outputs": [
    {
     "data": {
      "text/plain": [
       "dict_keys(['_ini', '_fin', '_data_list', '_metadata_post', '_well_list_platemap', '_platemap', 'metadata', '_filename', 'measurements', 'wells'])"
      ]
     },
     "execution_count": 6,
     "metadata": {},
     "output_type": "execute_result"
    }
   ],
   "source": [
    "ef1.extract_measurements()\n",
    "ef1.__dict__.keys()"
   ]
  },
  {
   "cell_type": "code",
   "execution_count": 7,
   "metadata": {},
   "outputs": [
    {
     "data": {
      "text/plain": [
       "['F01', 'F02', 'F03', 'F04', 'F05', 'F06', 'F07']"
      ]
     },
     "execution_count": 7,
     "metadata": {},
     "output_type": "execute_result"
    }
   ],
   "source": [
    "ef2.extract_measurements()\n",
    "ef2.wells"
   ]
  },
  {
   "cell_type": "code",
   "execution_count": 8,
   "metadata": {},
   "outputs": [
    {
     "data": {
      "text/plain": [
       "(dict_keys(['A']), dict_keys(['B', 'A', 'C', 'D', 'E', 'F', 'G', 'H']))"
      ]
     },
     "execution_count": 8,
     "metadata": {},
     "output_type": "execute_result"
    }
   ],
   "source": [
    "ef1.measurements.keys(), ef2.measurements.keys()"
   ]
  },
  {
   "cell_type": "markdown",
   "metadata": {},
   "source": [
    "when testing each spectra for the presence of a single wavelength in the appropriate monochromator"
   ]
  },
  {
   "cell_type": "code",
   "execution_count": 9,
   "metadata": {},
   "outputs": [
    {
     "data": {
      "text/plain": [
       "{'temp': '25',\n",
       " 'Monochromator': 'Excitation',\n",
       " 'Min wavelength': '400',\n",
       " 'Max wavelength': '510',\n",
       " 'Wavelength': '530',\n",
       " 'Using of excitation filter': 'Top',\n",
       " 'Measurement height': '8.9',\n",
       " 'Number of flashes': '50',\n",
       " 'Number of flashes integrated': '50',\n",
       " 'Flash power': '100'}"
      ]
     },
     "execution_count": 9,
     "metadata": {},
     "output_type": "execute_result"
    }
   ],
   "source": [
    "ef2.measurements[\"A\"][\"metadata\"]"
   ]
  },
  {
   "cell_type": "code",
   "execution_count": 10,
   "metadata": {},
   "outputs": [
    {
     "data": {
      "text/plain": [
       "['Well',\n",
       " 'MeasB:WavelengthEms',\n",
       " 'MeasA:WavelengthExc',\n",
       " 'MeasA:Result',\n",
       " 'MeasC:WavelengthEms',\n",
       " 'MeasD:WavelengthExc',\n",
       " 'MeasD:Result',\n",
       " 'MeasE:WavelengthEms',\n",
       " 'MeasF:WavelengthExc',\n",
       " 'MeasF:Result',\n",
       " 'MeasG:WavelengthEms',\n",
       " 'MeasH:WavelengthExc',\n",
       " 'MeasH:Result']"
      ]
     },
     "execution_count": 10,
     "metadata": {},
     "output_type": "execute_result"
    }
   ],
   "source": [
    "ef2._data_list[0][::2]"
   ]
  },
  {
   "cell_type": "code",
   "execution_count": 11,
   "metadata": {},
   "outputs": [
    {
     "data": {
      "text/plain": [
       "[2163.0, 607.0, 1846.0, 517.0, 572.0, 2145.0, 2028.0]"
      ]
     },
     "execution_count": 11,
     "metadata": {},
     "output_type": "execute_result"
    }
   ],
   "source": [
    "random.seed(11)\n",
    "random.sample(ef1.measurements[\"A\"][\"F01\"], 7)"
   ]
  },
  {
   "cell_type": "code",
   "execution_count": 12,
   "metadata": {},
   "outputs": [],
   "source": [
    "en1 = prenspire.ExpNote(tpath / \"h148g-spettroC-nota\")"
   ]
  },
  {
   "cell_type": "code",
   "execution_count": 13,
   "metadata": {},
   "outputs": [
    {
     "data": {
      "text/plain": [
       "['A01', 'A02', 'A03', 'A04', 'A05', 'A06', 'A07']"
      ]
     },
     "execution_count": 13,
     "metadata": {},
     "output_type": "execute_result"
    }
   ],
   "source": [
    "en1.wells[:7]"
   ]
  },
  {
   "cell_type": "code",
   "execution_count": 14,
   "metadata": {},
   "outputs": [
    {
     "data": {
      "text/plain": [
       "[['Well', 'pH', 'Chloride'],\n",
       " ['A01', '5.2', '0'],\n",
       " ['A02', '5.2', '6.7'],\n",
       " ['A03', '5.2', '13.3'],\n",
       " ['A04', '5.2', '26.7']]"
      ]
     },
     "execution_count": 14,
     "metadata": {},
     "output_type": "execute_result"
    }
   ],
   "source": [
    "en1.note_list[:5]"
   ]
  },
  {
   "cell_type": "code",
   "execution_count": 15,
   "metadata": {},
   "outputs": [
    {
     "data": {
      "text/plain": [
       "(True, False)"
      ]
     },
     "execution_count": 15,
     "metadata": {},
     "output_type": "execute_result"
    }
   ],
   "source": [
    "en1.check_wells(ef1), en1.check_wells(ef2)"
   ]
  },
  {
   "cell_type": "code",
   "execution_count": 16,
   "metadata": {},
   "outputs": [],
   "source": [
    "en1.build_titrations(ef1)"
   ]
  },
  {
   "cell_type": "code",
   "execution_count": 17,
   "metadata": {},
   "outputs": [
    {
     "data": {
      "text/plain": [
       "dict_keys(['note_list', 'wells', 'titrations', 'pH_values'])"
      ]
     },
     "execution_count": 17,
     "metadata": {},
     "output_type": "execute_result"
    }
   ],
   "source": [
    "en1.__dict__.keys()"
   ]
  },
  {
   "cell_type": "code",
   "execution_count": 18,
   "metadata": {},
   "outputs": [
    {
     "data": {
      "text/plain": [
       "['5.2', '6.3', '7.4', '8.1', '8.2']"
      ]
     },
     "execution_count": 18,
     "metadata": {},
     "output_type": "execute_result"
    }
   ],
   "source": [
    "en1.pH_values"
   ]
  },
  {
   "cell_type": "code",
   "execution_count": 19,
   "metadata": {},
   "outputs": [],
   "source": [
    "tit0 = en1.titrations[0]\n",
    "tit3 = en1.titrations[3]"
   ]
  },
  {
   "cell_type": "code",
   "execution_count": 20,
   "metadata": {},
   "outputs": [
    {
     "data": {
      "text/plain": [
       "dict_keys(['conc', 'data', 'cl'])"
      ]
     },
     "execution_count": 20,
     "metadata": {},
     "output_type": "execute_result"
    }
   ],
   "source": [
    "tit0.__dict__.keys()"
   ]
  },
  {
   "cell_type": "code",
   "execution_count": 21,
   "metadata": {},
   "outputs": [
    {
     "data": {
      "text/plain": [
       "([5.2, 6.3, 7.4, 8.1, 8.2],\n",
       " '0',\n",
       " [0.0, 6.7, 13.3, 26.7, 40.0, 60.0, 87.0, 120.0, 267.0, 400.0, 667.0],\n",
       " '7.4')"
      ]
     },
     "execution_count": 21,
     "metadata": {},
     "output_type": "execute_result"
    }
   ],
   "source": [
    "tit0.conc, tit0.cl, tit3.conc, tit3.ph"
   ]
  },
  {
   "cell_type": "code",
   "execution_count": 22,
   "metadata": {
    "scrolled": true
   },
   "outputs": [
    {
     "data": {
      "text/html": [
       "<div>\n",
       "<style scoped>\n",
       "    .dataframe tbody tr th:only-of-type {\n",
       "        vertical-align: middle;\n",
       "    }\n",
       "\n",
       "    .dataframe tbody tr th {\n",
       "        vertical-align: top;\n",
       "    }\n",
       "\n",
       "    .dataframe thead tr th {\n",
       "        text-align: left;\n",
       "    }\n",
       "\n",
       "    .dataframe thead tr:last-of-type th {\n",
       "        text-align: right;\n",
       "    }\n",
       "</style>\n",
       "<table border=\"1\" class=\"dataframe\">\n",
       "  <thead>\n",
       "    <tr>\n",
       "      <th></th>\n",
       "      <th>5.2</th>\n",
       "      <th>6.3</th>\n",
       "      <th>7.4</th>\n",
       "      <th>8.1</th>\n",
       "      <th>8.2</th>\n",
       "    </tr>\n",
       "    <tr>\n",
       "      <th></th>\n",
       "      <th>A01</th>\n",
       "      <th>B01</th>\n",
       "      <th>C01</th>\n",
       "      <th>D01</th>\n",
       "      <th>E01</th>\n",
       "    </tr>\n",
       "    <tr>\n",
       "      <th>lambda</th>\n",
       "      <th></th>\n",
       "      <th></th>\n",
       "      <th></th>\n",
       "      <th></th>\n",
       "      <th></th>\n",
       "    </tr>\n",
       "  </thead>\n",
       "  <tbody>\n",
       "    <tr>\n",
       "      <th>272.0</th>\n",
       "      <td>3151.0</td>\n",
       "      <td>4181.0</td>\n",
       "      <td>16413.0</td>\n",
       "      <td>29192.0</td>\n",
       "      <td>28816.0</td>\n",
       "    </tr>\n",
       "    <tr>\n",
       "      <th>273.0</th>\n",
       "      <td>3130.0</td>\n",
       "      <td>4204.0</td>\n",
       "      <td>16926.0</td>\n",
       "      <td>29909.0</td>\n",
       "      <td>29545.0</td>\n",
       "    </tr>\n",
       "    <tr>\n",
       "      <th>274.0</th>\n",
       "      <td>3043.0</td>\n",
       "      <td>4232.0</td>\n",
       "      <td>17331.0</td>\n",
       "      <td>30900.0</td>\n",
       "      <td>30750.0</td>\n",
       "    </tr>\n",
       "    <tr>\n",
       "      <th>275.0</th>\n",
       "      <td>3079.0</td>\n",
       "      <td>4283.0</td>\n",
       "      <td>17680.0</td>\n",
       "      <td>31717.0</td>\n",
       "      <td>31547.0</td>\n",
       "    </tr>\n",
       "    <tr>\n",
       "      <th>276.0</th>\n",
       "      <td>2975.0</td>\n",
       "      <td>4264.0</td>\n",
       "      <td>18020.0</td>\n",
       "      <td>32564.0</td>\n",
       "      <td>32336.0</td>\n",
       "    </tr>\n",
       "    <tr>\n",
       "      <th>...</th>\n",
       "      <td>...</td>\n",
       "      <td>...</td>\n",
       "      <td>...</td>\n",
       "      <td>...</td>\n",
       "      <td>...</td>\n",
       "    </tr>\n",
       "    <tr>\n",
       "      <th>496.0</th>\n",
       "      <td>636.0</td>\n",
       "      <td>4689.0</td>\n",
       "      <td>43230.0</td>\n",
       "      <td>87203.0</td>\n",
       "      <td>87842.0</td>\n",
       "    </tr>\n",
       "    <tr>\n",
       "      <th>497.0</th>\n",
       "      <td>683.0</td>\n",
       "      <td>4923.0</td>\n",
       "      <td>45173.0</td>\n",
       "      <td>89719.0</td>\n",
       "      <td>90666.0</td>\n",
       "    </tr>\n",
       "    <tr>\n",
       "      <th>498.0</th>\n",
       "      <td>632.0</td>\n",
       "      <td>4900.0</td>\n",
       "      <td>46725.0</td>\n",
       "      <td>93452.0</td>\n",
       "      <td>94101.0</td>\n",
       "    </tr>\n",
       "    <tr>\n",
       "      <th>499.0</th>\n",
       "      <td>854.0</td>\n",
       "      <td>5140.0</td>\n",
       "      <td>48452.0</td>\n",
       "      <td>96643.0</td>\n",
       "      <td>97506.0</td>\n",
       "    </tr>\n",
       "    <tr>\n",
       "      <th>500.0</th>\n",
       "      <td>573.0</td>\n",
       "      <td>5573.0</td>\n",
       "      <td>50025.0</td>\n",
       "      <td>99847.0</td>\n",
       "      <td>100715.0</td>\n",
       "    </tr>\n",
       "  </tbody>\n",
       "</table>\n",
       "<p>229 rows × 5 columns</p>\n",
       "</div>"
      ],
      "text/plain": [
       "           5.2     6.3      7.4      8.1       8.2\n",
       "           A01     B01      C01      D01       E01\n",
       "lambda                                            \n",
       "272.0   3151.0  4181.0  16413.0  29192.0   28816.0\n",
       "273.0   3130.0  4204.0  16926.0  29909.0   29545.0\n",
       "274.0   3043.0  4232.0  17331.0  30900.0   30750.0\n",
       "275.0   3079.0  4283.0  17680.0  31717.0   31547.0\n",
       "276.0   2975.0  4264.0  18020.0  32564.0   32336.0\n",
       "...        ...     ...      ...      ...       ...\n",
       "496.0    636.0  4689.0  43230.0  87203.0   87842.0\n",
       "497.0    683.0  4923.0  45173.0  89719.0   90666.0\n",
       "498.0    632.0  4900.0  46725.0  93452.0   94101.0\n",
       "499.0    854.0  5140.0  48452.0  96643.0   97506.0\n",
       "500.0    573.0  5573.0  50025.0  99847.0  100715.0\n",
       "\n",
       "[229 rows x 5 columns]"
      ]
     },
     "execution_count": 22,
     "metadata": {},
     "output_type": "execute_result"
    }
   ],
   "source": [
    "tit0.data[\"A\"]"
   ]
  },
  {
   "cell_type": "code",
   "execution_count": null,
   "metadata": {
    "scrolled": false
   },
   "outputs": [],
   "source": [
    "tit0.plot()"
   ]
  },
  {
   "cell_type": "code",
   "execution_count": null,
   "metadata": {
    "scrolled": true
   },
   "outputs": [],
   "source": [
    "tit3.plot()"
   ]
  }
 ],
 "metadata": {
  "kernelspec": {
   "display_name": "Python 3 (ipykernel)",
   "language": "python",
   "name": "python3"
  },
  "language_info": {
   "codemirror_mode": {
    "name": "ipython",
    "version": 3
   },
   "file_extension": ".py",
   "mimetype": "text/x-python",
   "name": "python",
   "nbconvert_exporter": "python",
   "pygments_lexer": "ipython3",
   "version": "3.11.3"
  }
 },
 "nbformat": 4,
 "nbformat_minor": 1
}
