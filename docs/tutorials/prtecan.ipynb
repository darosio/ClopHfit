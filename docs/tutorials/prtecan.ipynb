{
 "cells": [
  {
   "cell_type": "markdown",
   "metadata": {},
   "source": [
    "# Getting started with prtecan"
   ]
  },
  {
   "cell_type": "code",
   "execution_count": null,
   "metadata": {},
   "outputs": [],
   "source": [
    "import os\n",
    "import warnings\n",
    "\n",
    "import arviz as az\n",
    "import matplotlib.pyplot as plt\n",
    "import numpy as np\n",
    "import pandas as pd\n",
    "import seaborn as sb\n",
    "\n",
    "from clophfit import prtecan\n",
    "from clophfit.binding import fitting, plotting\n",
    "from clophfit.prtecan import Titration, TitrationAnalysis\n",
    "\n",
    "%load_ext autoreload\n",
    "%autoreload 2\n",
    "\n",
    "os.chdir(\"../../tests/Tecan/140220/\")\n",
    "warnings.filterwarnings(\"ignore\", category=UserWarning, module=\"clophfit.prtecan\")"
   ]
  },
  {
   "cell_type": "markdown",
   "metadata": {},
   "source": [
    "## Parsing a Single Tecan File\n",
    "\n",
    "A Tecan file comprises of multiple label blocks, each with its unique metadata. This metadata provides critical details and context for the associated label block. In addition, the Tecan file itself also has its overarching metadata that describes its overall content.\n",
    "\n",
    "When the KEYS for label blocks are identical, it indicates that these label blocks are equivalent - meaning, they contain the same measurements. The equality of KEYS plays a significant role in parsing and analyzing Tecan files, as it assists in identifying and grouping similar measurement sets together. This understanding of label block equivalence based on KEY similarity is critical when working with Tecan files."
   ]
  },
  {
   "cell_type": "code",
   "execution_count": null,
   "metadata": {},
   "outputs": [],
   "source": [
    "tf = prtecan.Tecanfile(\"../290212_6.38.xls\")\n",
    "lb0 = tf.labelblocks[0]\n",
    "tf.metadata"
   ]
  },
  {
   "cell_type": "code",
   "execution_count": null,
   "metadata": {
    "scrolled": true
   },
   "outputs": [],
   "source": [
    "print(\"Metadata:\\n\", lb0.metadata, \"\\n\")\n",
    "print(\"Data:\\n\", lb0.data)"
   ]
  },
  {
   "cell_type": "markdown",
   "metadata": {},
   "source": [
    "## Group a list of tecan files into a titration\n",
    "\n",
    "The command Titration.fromlistfile(\"../listfile\") reads a list of Tecan files, identifies unique measurements in each file, groups matching ones, and combines them into a titration set for further analysis."
   ]
  },
  {
   "cell_type": "code",
   "execution_count": null,
   "metadata": {},
   "outputs": [],
   "source": [
    "tit = Titration.fromlistfile(\"./list.pH\", is_ph=True)\n",
    "print(tit.conc, \"\\n\")\n",
    "lbg0 = tit.labelblocksgroups[0]\n",
    "lbg1 = tit.labelblocksgroups[1]\n",
    "lbg0.metadata, lbg1.metadata"
   ]
  },
  {
   "cell_type": "code",
   "execution_count": null,
   "metadata": {},
   "outputs": [],
   "source": [
    "lbg0.labelblocks[5].metadata[\"Temperature\"]"
   ]
  },
  {
   "cell_type": "code",
   "execution_count": null,
   "metadata": {},
   "outputs": [],
   "source": [
    "(\n",
    "    lbg0.data[\"H12\"],\n",
    "    lbg1.data[\"H12\"],\n",
    "    lbg0.data_buffersubtracted,\n",
    "    lbg1.data_buffersubtracted,\n",
    ")"
   ]
  },
  {
   "cell_type": "markdown",
   "metadata": {},
   "source": [
    "Start with platescheme loading to set buffer wells (and consequently buffer values).\n",
    "\n",
    "Labelblocks group will be populated with data buffer subtracted with/out normalization."
   ]
  },
  {
   "cell_type": "code",
   "execution_count": null,
   "metadata": {},
   "outputs": [],
   "source": [
    "tit.load_scheme(\"./scheme.txt\")\n",
    "print(f\"Buffer wells : {tit.scheme.buffer}\")\n",
    "print(f\"Ctrl wells   : {tit.scheme.ctrl}\")\n",
    "print(f\"CTR name:wells {tit.scheme.names}\")"
   ]
  },
  {
   "cell_type": "code",
   "execution_count": null,
   "metadata": {},
   "outputs": [],
   "source": [
    "(\n",
    "    lbg0.data[\"H12\"],\n",
    "    lbg1.data[\"H12\"],\n",
    "    lbg0.data_buffersubtracted[\"H12\"],\n",
    "    lbg1.data_buffersubtracted[\"H12\"],\n",
    "    tit.data,\n",
    ")"
   ]
  },
  {
   "cell_type": "code",
   "execution_count": null,
   "metadata": {},
   "outputs": [],
   "source": [
    "tit.load_additions(\"./additions.pH\")\n",
    "tit.additions"
   ]
  },
  {
   "cell_type": "code",
   "execution_count": null,
   "metadata": {},
   "outputs": [],
   "source": [
    "(\n",
    "    lbg0.data[\"H12\"],\n",
    "    lbg1.data[\"H12\"],\n",
    "    lbg0.data_buffersubtracted[\"H12\"],\n",
    "    lbg1.data_buffersubtracted[\"H12\"],\n",
    "    tit.data[0][\"H12\"],\n",
    "    tit.data[1][\"H12\"],\n",
    ")"
   ]
  },
  {
   "cell_type": "markdown",
   "metadata": {},
   "source": [
    "The order in which you apply dilution correction and plate scheme can impact your intermediate results, even though the final results might be the same.\n",
    "\n",
    "    Dilution correction adjusts the measured data to account for any dilutions made during sample preparation. This typically involves multiplying the measured values by the dilution factor to estimate the true concentration of the sample.\n",
    "\n",
    "    A plate scheme describes the layout of the samples on a plate (common in laboratory experiments, such as those involving microtiter plates). The plate scheme may involve rearranging or grouping the data in some way based on the physical location of the samples on the plate."
   ]
  },
  {
   "cell_type": "code",
   "execution_count": null,
   "metadata": {},
   "outputs": [],
   "source": [
    "tit = Titration.fromlistfile(\"./list.pH\", is_ph=True)\n",
    "lbg0 = tit.labelblocksgroups[0]\n",
    "lbg1 = tit.labelblocksgroups[1]\n",
    "tit.load_additions(\"./additions.pH\")\n",
    "(\n",
    "    lbg0.data[\"H12\"],\n",
    "    lbg1.data[\"H12\"],\n",
    "    lbg0.data_buffersubtracted,\n",
    "    lbg1.data_buffersubtracted,\n",
    "    tit.data,\n",
    ")"
   ]
  },
  {
   "cell_type": "code",
   "execution_count": null,
   "metadata": {},
   "outputs": [],
   "source": [
    "tit.load_scheme(\"./scheme.txt\")\n",
    "(\n",
    "    lbg0.data[\"H12\"],\n",
    "    lbg1.data[\"H12\"],\n",
    "    lbg0.data_buffersubtracted[\"H12\"],\n",
    "    lbg1.data_buffersubtracted[\"H12\"],\n",
    "    tit.data[0][\"H12\"],\n",
    "    tit.data[1][\"H12\"],\n",
    ")"
   ]
  },
  {
   "cell_type": "markdown",
   "metadata": {},
   "source": [
    "### Reassign Buffer Wells\n",
    "\n",
    "You can reassess buffer wells, updating the data to account for any dilution (additions) and subtracting the updated buffer value. This is a handy feature that gives you more control over your analysis.\n",
    "\n",
    "For instance, consider the following data for a particular well:"
   ]
  },
  {
   "cell_type": "code",
   "execution_count": null,
   "metadata": {},
   "outputs": [],
   "source": [
    "print(tit.labelblocksgroups[1].data[\"D01\"])\n",
    "print(tit.labelblocksgroups[1].data_buffersubtracted[\"D01\"])\n",
    "print(tit.data[1][\"D01\"])"
   ]
  },
  {
   "cell_type": "markdown",
   "metadata": {},
   "source": [
    "You can reassign buffer wells using the `buffer_wells` attribute:"
   ]
  },
  {
   "cell_type": "code",
   "execution_count": null,
   "metadata": {},
   "outputs": [],
   "source": [
    "tit.buffer_wells = [\"D01\", \"E01\"]"
   ]
  },
  {
   "cell_type": "markdown",
   "metadata": {},
   "source": [
    "This updates the data for the specified wells, correcting for dilution and subtracting the buffer value:"
   ]
  },
  {
   "cell_type": "code",
   "execution_count": null,
   "metadata": {},
   "outputs": [],
   "source": [
    "print(tit.labelblocksgroups[1].data[\"D01\"])\n",
    "print(tit.labelblocksgroups[1].data_buffersubtracted[\"D01\"])\n",
    "print(tit.data[1][\"D01\"])"
   ]
  },
  {
   "cell_type": "markdown",
   "metadata": {},
   "source": [
    "The data remains:\n",
    "- unchanged in `labelblocksgroups[].data`\n",
    "- adjusted buffer subtracted in `labelblocksgroups[].data_buffersubtracted`\n",
    "- adjusted buffer subtracted and dilution corrected in `data`."
   ]
  },
  {
   "cell_type": "markdown",
   "metadata": {},
   "source": [
    "## Titration Analysis"
   ]
  },
  {
   "cell_type": "code",
   "execution_count": null,
   "metadata": {},
   "outputs": [],
   "source": [
    "titan = TitrationAnalysis.fromlistfile(\"./list.pH\", is_ph=True)\n",
    "titan.load_scheme(\"./scheme.txt\")\n",
    "titan.load_additions(\"additions.pH\")\n",
    "# g = titan.plot_buffer()\n",
    "titan.datafit_params = {\"bg\": True, \"nrm\": True, \"dil\": True}"
   ]
  },
  {
   "cell_type": "code",
   "execution_count": null,
   "metadata": {},
   "outputs": [],
   "source": [
    "df1 = pd.read_csv(\"fit1.csv\", index_col=0)\n",
    "merged_df = titan.result_dfs[1][[\"K\", \"sK\"]].merge(\n",
    "    df1, left_index=True, right_index=True\n",
    ")\n",
    "\n",
    "sb.jointplot(merged_df, x=\"K_y\", y=\"K_x\", kind=\"reg\", ratio=3)"
   ]
  },
  {
   "cell_type": "markdown",
   "metadata": {},
   "source": [
    "If a fit fails in a well, the well key will be anyway present in results list of dict."
   ]
  },
  {
   "cell_type": "code",
   "execution_count": null,
   "metadata": {},
   "outputs": [],
   "source": [
    "print(titan.data[0][\"H02\"])\n",
    "print(titan.results[1].keys() - titan.results[0].keys())\n",
    "titan.results[0][\"H02\"]"
   ]
  },
  {
   "cell_type": "code",
   "execution_count": null,
   "metadata": {},
   "outputs": [],
   "source": [
    "titan.fitkws = TitrationAnalysis.FitKwargs(fin=-1, weight=False)\n",
    "titan.results[2][\"H02\"].figure"
   ]
  },
  {
   "cell_type": "markdown",
   "metadata": {},
   "source": [
    "And in the global fit (i.e. fitting 2 labelblocks) dataset with insufficient data points are removed."
   ]
  },
  {
   "cell_type": "code",
   "execution_count": null,
   "metadata": {},
   "outputs": [],
   "source": [
    "well = \"H02\"\n",
    "y0 = np.array(titan.data[0][well])\n",
    "y1 = np.array(titan.labelblocksgroups[1].data_buffersubtracted[well])\n",
    "y1 = np.array(titan.data[1][well])\n",
    "x = np.array(titan.conc)\n",
    "ds = fitting.Dataset(x, {\"y0\": y0, \"y1\": y1}, is_ph=True)\n",
    "rfit = fitting.fit_binding_glob(ds)\n",
    "\n",
    "rfit.result.params"
   ]
  },
  {
   "cell_type": "code",
   "execution_count": null,
   "metadata": {},
   "outputs": [],
   "source": [
    "titan.result_dfs[1].head()"
   ]
  },
  {
   "cell_type": "markdown",
   "metadata": {},
   "source": [
    "You can decide how to pre-process data with datafit_params:\n",
    "- [bg] subtract background\n",
    "- [dil] apply correction for dilution (when e.g. during a titration you add titrant without protein)\n",
    "- [nrm] normalize for gain, number of flashes and integration time. "
   ]
  },
  {
   "cell_type": "code",
   "execution_count": null,
   "metadata": {},
   "outputs": [],
   "source": [
    "titan.datafit_params = {\"bg\": 1, \"nrm\": 0, \"dil\": 0}\n",
    "titan.fitdata[1][\"E06\"]"
   ]
  },
  {
   "cell_type": "markdown",
   "metadata": {},
   "source": [
    "### Posterior analysis with emcee\n",
    "\n",
    "To explore the posterior of parameters you can use the Minimizer object returned in FitResult."
   ]
  },
  {
   "cell_type": "code",
   "execution_count": null,
   "metadata": {},
   "outputs": [],
   "source": [
    "np.random.seed(0)\n",
    "remcee = rfit.mini.emcee(\n",
    "    burn=50, steps=2000, workers=8, thin=10, nwalkers=30, progress=False\n",
    ")"
   ]
  },
  {
   "cell_type": "code",
   "execution_count": null,
   "metadata": {},
   "outputs": [],
   "source": [
    "f = plotting.plot_emcee(remcee.flatchain)\n",
    "print(remcee.flatchain.quantile([0.03, 0.97])[\"K\"].to_list())"
   ]
  },
  {
   "cell_type": "raw",
   "metadata": {},
   "source": [
    "titan.plot_all_wells(\"cl.pdf\")"
   ]
  },
  {
   "cell_type": "code",
   "execution_count": null,
   "metadata": {},
   "outputs": [],
   "source": [
    "samples = remcee.flatchain[[\"K\"]]\n",
    "# Convert the dictionary of flatchains to an ArviZ InferenceData object\n",
    "samples_dict = {key: np.array(val) for key, val in samples.items()}\n",
    "idata = az.from_dict(posterior=samples_dict)\n",
    "k_samples = idata.posterior[\"K\"].to_numpy()\n",
    "percentile_value = np.percentile(k_samples, 3)\n",
    "print(f\"Value at which the probability of being higher is 99%: {percentile_value}\")\n",
    "\n",
    "az.plot_forest(k_samples)"
   ]
  },
  {
   "cell_type": "markdown",
   "metadata": {},
   "source": [
    "### Cl titration analysis"
   ]
  },
  {
   "cell_type": "code",
   "execution_count": null,
   "metadata": {},
   "outputs": [],
   "source": [
    "cl_an = prtecan.TitrationAnalysis.fromlistfile(\"list.cl\", is_ph=False)\n",
    "cl_an.load_scheme(\"scheme.txt\")\n",
    "cl_an.scheme"
   ]
  },
  {
   "cell_type": "code",
   "execution_count": null,
   "metadata": {},
   "outputs": [],
   "source": [
    "cl_an.load_additions(\"additions.cl\")\n",
    "print(cl_an.conc)\n",
    "cl_an.conc = prtecan.calculate_conc(cl_an.additions, 1000)\n",
    "cl_an.conc"
   ]
  },
  {
   "cell_type": "code",
   "execution_count": null,
   "metadata": {},
   "outputs": [],
   "source": [
    "fres = cl_an.results[2][well]\n",
    "print(fres.is_valid(), fres.result.bic, fres.result.redchi)\n",
    "fres.figure"
   ]
  },
  {
   "cell_type": "markdown",
   "metadata": {},
   "source": [
    "### Plotting"
   ]
  },
  {
   "cell_type": "code",
   "execution_count": null,
   "metadata": {},
   "outputs": [],
   "source": [
    "f = titan.plot_k(1, title=\"2014-12-23\", hue_column=\"S1_default\")"
   ]
  },
  {
   "cell_type": "code",
   "execution_count": null,
   "metadata": {
    "scrolled": true
   },
   "outputs": [],
   "source": [
    "titan.print_fitting(2)"
   ]
  },
  {
   "cell_type": "markdown",
   "metadata": {},
   "source": [
    "### selection"
   ]
  },
  {
   "cell_type": "code",
   "execution_count": null,
   "metadata": {},
   "outputs": [],
   "source": [
    "titan"
   ]
  },
  {
   "cell_type": "code",
   "execution_count": null,
   "metadata": {},
   "outputs": [],
   "source": [
    "titan.fitdata_params = {\"dil\": 1, \"nrm\": 1}\n",
    "titan"
   ]
  },
  {
   "cell_type": "code",
   "execution_count": null,
   "metadata": {},
   "outputs": [],
   "source": [
    "f = titan.plot_ebar(0, y=\"S1_default\", yerr=\"sS1_default\")"
   ]
  },
  {
   "cell_type": "code",
   "execution_count": null,
   "metadata": {},
   "outputs": [],
   "source": [
    "f = titan.plot_ebar(2, y=\"S1_y1\", yerr=\"sS1_y1\", xmin=7.7, ymin=25)"
   ]
  },
  {
   "cell_type": "code",
   "execution_count": null,
   "metadata": {},
   "outputs": [],
   "source": [
    "titan.result_dfs[1].loc[titan.result_dfs[1][\"ctrl\"].isna(), \"ctrl\"] = \"U\"\n",
    "\n",
    "sb.set_style(\"whitegrid\")\n",
    "g = sb.PairGrid(\n",
    "    titan.result_dfs[1],\n",
    "    x_vars=[\"K\", \"S1_default\", \"S0_default\"],\n",
    "    y_vars=[\"K\", \"S1_default\", \"S0_default\"],\n",
    "    hue=\"ctrl\",\n",
    "    palette=\"Set1\",\n",
    "    diag_sharey=False,\n",
    ")\n",
    "g.map_lower(plt.scatter)\n",
    "g.map_upper(sb.kdeplot, fill=True)\n",
    "g.map_diag(sb.kdeplot)"
   ]
  },
  {
   "cell_type": "code",
   "execution_count": null,
   "metadata": {},
   "outputs": [],
   "source": [
    "with sb.axes_style(\"darkgrid\"):\n",
    "    g = sb.pairplot(\n",
    "        titan.result_dfs[2][[\"S1_y0\", \"S0_y0\", \"K\", \"S1_y1\", \"S0_y1\"]],\n",
    "        hue=\"S1_y0\",\n",
    "        palette=\"Reds\",\n",
    "        corner=True,\n",
    "        diag_kind=\"kde\",\n",
    "    )"
   ]
  },
  {
   "cell_type": "markdown",
   "metadata": {},
   "source": [
    "### combining"
   ]
  },
  {
   "cell_type": "code",
   "execution_count": null,
   "metadata": {},
   "outputs": [],
   "source": [
    "res_unk = titan.result_dfs[1].loc[titan.keys_unk].sort_index()\n",
    "res_unk[\"well\"] = res_unk.index"
   ]
  },
  {
   "cell_type": "code",
   "execution_count": null,
   "metadata": {},
   "outputs": [],
   "source": [
    "f = plt.figure(figsize=(24, 14))\n",
    "# Make the PairGrid\n",
    "g = sb.PairGrid(\n",
    "    res_unk,\n",
    "    x_vars=[\"K\", \"S1_default\", \"S0_default\"],\n",
    "    y_vars=\"well\",\n",
    "    height=12,\n",
    "    aspect=0.4,\n",
    ")\n",
    "# Draw a dot plot using the stripplot function\n",
    "g.map(sb.stripplot, size=14, orient=\"h\", palette=\"Set2\", edgecolor=\"auto\")\n",
    "\n",
    "# Use the same x axis limits on all columns and add better labels\n",
    "# g.set(xlim=(0, 25), xlabel=\"Crashes\", ylabel=\"\")\n",
    "\n",
    "# Use semantically meaningful titles for the columns\n",
    "titles = [\"$pK_a$\", \"B$_{neutral}$\", \"B$_{anionic}$\"]\n",
    "\n",
    "for ax, title in zip(g.axes.flat, titles, strict=False):\n",
    "    # Set a different title for each axes\n",
    "    ax.set(title=title)\n",
    "\n",
    "    # Make the grid horizontal instead of vertical\n",
    "    ax.xaxis.grid(False)\n",
    "    ax.yaxis.grid(True)\n",
    "\n",
    "sb.despine(left=True, bottom=True)"
   ]
  }
 ],
 "metadata": {
  "kernelspec": {
   "display_name": "Python 3 (ipykernel)",
   "language": "python",
   "name": "python3"
  },
  "language_info": {
   "codemirror_mode": {
    "name": "ipython",
    "version": 3
   },
   "file_extension": ".py",
   "mimetype": "text/x-python",
   "name": "python",
   "nbconvert_exporter": "python",
   "pygments_lexer": "ipython3",
   "version": "3.12.2"
  }
 },
 "nbformat": 4,
 "nbformat_minor": 4
}
