{
 "cells": [
  {
   "cell_type": "markdown",
   "metadata": {},
   "source": [
    "# Getting started with prtecan"
   ]
  },
  {
   "cell_type": "code",
   "execution_count": 1,
   "metadata": {},
   "outputs": [],
   "source": [
    "import hashlib\n",
    "import os\n",
    "import warnings\n",
    "\n",
    "import arviz as az\n",
    "import lmfit\n",
    "import matplotlib.pyplot as plt\n",
    "import numpy as np\n",
    "import pandas as pd\n",
    "from clophfit import prtecan\n",
    "from clophfit.binding import fitting, plotting\n",
    "from clophfit.prtecan import Titration, TitrationAnalysis\n",
    "\n",
    "%load_ext autoreload\n",
    "%autoreload 2\n",
    "\n",
    "os.chdir(\"../../tests/Tecan/140220/\")"
   ]
  },
  {
   "cell_type": "markdown",
   "metadata": {
    "jp-MarkdownHeadingCollapsed": true
   },
   "source": [
    "## Parsing a Single Tecan File\n",
    "\n",
    "A Tecan file comprises of multiple label blocks, each with its unique metadata. This metadata provides critical details and context for the associated label block. In addition, the Tecan file itself also has its overarching metadata that describes its overall content.\n",
    "\n",
    "When the KEYS for label blocks are identical, it indicates that these label blocks are equivalent - meaning, they contain the same measurements. The equality of KEYS plays a significant role in parsing and analyzing Tecan files, as it assists in identifying and grouping similar measurement sets together. This understanding of label block equivalence based on KEY similarity is critical when working with Tecan files."
   ]
  },
  {
   "cell_type": "code",
   "execution_count": 2,
   "metadata": {},
   "outputs": [
    {
     "data": {
      "text/plain": [
       "{'Device: infinite 200': Metadata(value='Serial number: 810002712', unit=['Serial number of connected stacker:']),\n",
       " 'Firmware: V_2.11_04/08_InfiniTe (Apr  4 2008/14.37.11)': Metadata(value='MAI, V_2.11_04/08_InfiniTe (Apr  4 2008/14.37.11)', unit=None),\n",
       " 'Date:': Metadata(value='29/02/2012', unit=None),\n",
       " 'Time:': Metadata(value='15.57.05', unit=None),\n",
       " 'System': Metadata(value='TECANROBOT', unit=None),\n",
       " 'User': Metadata(value='TECANROBOT\\\\Administrator', unit=None),\n",
       " 'Plate': Metadata(value='PE 96 Flat Bottom White   [PE.pdfx]', unit=None),\n",
       " 'Plate-ID (Stacker)': Metadata(value='Plate-ID (Stacker)', unit=None),\n",
       " 'Shaking (Linear) Duration:': Metadata(value=50, unit=['s']),\n",
       " 'Shaking (Linear) Amplitude:': Metadata(value=2, unit=['mm'])}"
      ]
     },
     "execution_count": 2,
     "metadata": {},
     "output_type": "execute_result"
    }
   ],
   "source": [
    "tf = prtecan.Tecanfile(\"../290212_6.38.xls\")\n",
    "lb0 = tf.labelblocks[0]\n",
    "tf.metadata"
   ]
  },
  {
   "cell_type": "code",
   "execution_count": 3,
   "metadata": {},
   "outputs": [
    {
     "data": {
      "text/plain": [
       "{'Label': Metadata(value='Label1', unit=None),\n",
       " 'Mode': Metadata(value='Fluorescence Top Reading', unit=None),\n",
       " 'Excitation Wavelength': Metadata(value=400, unit=['nm']),\n",
       " 'Emission Wavelength': Metadata(value=535, unit=['nm']),\n",
       " 'Excitation Bandwidth': Metadata(value=20, unit=['nm']),\n",
       " 'Emission Bandwidth': Metadata(value=25, unit=['nm']),\n",
       " 'Gain': Metadata(value=81, unit=['Manual']),\n",
       " 'Number of Flashes': Metadata(value=10, unit=None),\n",
       " 'Integration Time': Metadata(value=20, unit=['µs']),\n",
       " 'Lag Time': Metadata(value='µs', unit=None),\n",
       " 'Settle Time': Metadata(value='ms', unit=None),\n",
       " 'Start Time:': Metadata(value='29/02/2012 15.57.55', unit=None),\n",
       " 'Temperature': Metadata(value=26.0, unit=['°C']),\n",
       " 'End Time:': Metadata(value='29/02/2012 15.58.35', unit=None)}"
      ]
     },
     "execution_count": 3,
     "metadata": {},
     "output_type": "execute_result"
    }
   ],
   "source": [
    "lb0.metadata"
   ]
  },
  {
   "cell_type": "code",
   "execution_count": 4,
   "metadata": {
    "scrolled": true
   },
   "outputs": [
    {
     "name": "stdout",
     "output_type": "stream",
     "text": [
      "{'A01': 30072.0, 'A02': 27276.0, 'A03': 22249.0, 'A04': 30916.0, 'A05': 27943.0, 'A06': 25130.0, 'A07': 26765.0, 'A08': 27836.0, 'A09': 23084.0, 'A10': 31370.0, 'A11': 16890.0, 'A12': 22136.0, 'B01': 22336.0, 'B02': 31327.0, 'B03': 24855.0, 'B04': 32426.0, 'B05': 30066.0, 'B06': 27018.0, 'B07': 28269.0, 'B08': 27570.0, 'B09': 31310.0, 'B10': 24358.0, 'B11': 22595.0, 'B12': 20355.0, 'C01': 23232.0, 'C02': 32241.0, 'C03': 28309.0, 'C04': 26642.0, 'C05': 28818.0, 'C06': 26638.0, 'C07': 26423.0, 'C08': 29441.0, 'C09': 28541.0, 'C10': 29656.0, 'C11': 29841.0, 'C12': 25738.0, 'D01': 26578.0, 'D02': 22280.0, 'D03': 36219.0, 'D04': 25735.0, 'D05': 35433.0, 'D06': 27376.0, 'D07': 22497.0, 'D08': 35681.0, 'D09': 26154.0, 'D10': 32311.0, 'D11': 27495.0, 'D12': 22459.0, 'E01': 27576.0, 'E02': 26058.0, 'E03': 28882.0, 'E04': 26188.0, 'E05': 27531.0, 'E06': 31269.0, 'E07': 26757.0, 'E08': 26427.0, 'E09': 27764.0, 'E10': 27184.0, 'E11': 26556.0, 'E12': 18494.0, 'F01': 22120.0, 'F02': 26642.0, 'F03': 25432.0, 'F04': 23801.0, 'F05': 23932.0, 'F06': 28471.0, 'F07': 27151.0, 'F08': 30243.0, 'F09': 29908.0, 'F10': 27429.0, 'F11': 23624.0, 'F12': 20150.0, 'G01': 18084.0, 'G02': 23496.0, 'G03': 25347.0, 'G04': 30926.0, 'G05': 32714.0, 'G06': 29026.0, 'G07': 33351.0, 'G08': 25353.0, 'G09': 29849.0, 'G10': 25687.0, 'G11': 20913.0, 'G12': 20991.0, 'H01': 25504.0, 'H02': 23601.0, 'H03': 24436.0, 'H04': 27613.0, 'H05': 28201.0, 'H06': 29740.0, 'H07': 26272.0, 'H08': 28696.0, 'H09': 29984.0, 'H10': 25136.0, 'H11': 22063.0, 'H12': 20888.0}\n"
     ]
    }
   ],
   "source": [
    "print(lb0.data)"
   ]
  },
  {
   "cell_type": "markdown",
   "metadata": {
    "jp-MarkdownHeadingCollapsed": true
   },
   "source": [
    "## Group a list of tecan files into a titration\n",
    "\n",
    "The command Titration.fromlistfile(\"../listfile\") reads a list of Tecan files, identifies unique measurements in each file, groups matching ones, and combines them into a titration set for further analysis."
   ]
  },
  {
   "cell_type": "code",
   "execution_count": 5,
   "metadata": {},
   "outputs": [
    {
     "data": {
      "text/plain": [
       "[5.78, 6.38, 6.83, 7.24, 7.67, 8.23, 8.82, 9.31]"
      ]
     },
     "execution_count": 5,
     "metadata": {},
     "output_type": "execute_result"
    }
   ],
   "source": [
    "tit = Titration.fromlistfile(\"../list.pH\")\n",
    "tit.conc"
   ]
  },
  {
   "cell_type": "code",
   "execution_count": 6,
   "metadata": {},
   "outputs": [
    {
     "data": {
      "text/plain": [
       "({'Label': Metadata(value='Label1', unit=None),\n",
       "  'Mode': Metadata(value='Fluorescence Top Reading', unit=None),\n",
       "  'Excitation Wavelength': Metadata(value=400, unit=['nm']),\n",
       "  'Emission Wavelength': Metadata(value=535, unit=['nm']),\n",
       "  'Excitation Bandwidth': Metadata(value=20, unit=['nm']),\n",
       "  'Emission Bandwidth': Metadata(value=25, unit=['nm']),\n",
       "  'Number of Flashes': Metadata(value=10, unit=None),\n",
       "  'Integration Time': Metadata(value=20, unit=['µs']),\n",
       "  'Lag Time': Metadata(value='µs', unit=None),\n",
       "  'Settle Time': Metadata(value='ms', unit=None),\n",
       "  'Gain': Metadata(value=81, unit=None)},\n",
       " {'Label': Metadata(value='Label2', unit=None),\n",
       "  'Mode': Metadata(value='Fluorescence Top Reading', unit=None),\n",
       "  'Excitation Wavelength': Metadata(value=485, unit=['nm']),\n",
       "  'Emission Wavelength': Metadata(value=535, unit=['nm']),\n",
       "  'Excitation Bandwidth': Metadata(value=25, unit=['nm']),\n",
       "  'Emission Bandwidth': Metadata(value=25, unit=['nm']),\n",
       "  'Number of Flashes': Metadata(value=10, unit=None),\n",
       "  'Integration Time': Metadata(value=20, unit=['µs']),\n",
       "  'Lag Time': Metadata(value='µs', unit=None),\n",
       "  'Settle Time': Metadata(value='ms', unit=None),\n",
       "  'Movement': Metadata(value='Move Plate Out', unit=None),\n",
       "  'Gain': Metadata(value=93, unit=None)})"
      ]
     },
     "execution_count": 6,
     "metadata": {},
     "output_type": "execute_result"
    }
   ],
   "source": [
    "lbg0 = tit.labelblocksgroups[0]\n",
    "lbg1 = tit.labelblocksgroups[1]\n",
    "lbg0.metadata, lbg1.metadata"
   ]
  },
  {
   "cell_type": "code",
   "execution_count": 7,
   "metadata": {},
   "outputs": [
    {
     "data": {
      "text/plain": [
       "Metadata(value=25.6, unit=['°C'])"
      ]
     },
     "execution_count": 7,
     "metadata": {},
     "output_type": "execute_result"
    }
   ],
   "source": [
    "lbg0.labelblocks[5].metadata[\"Temperature\"]"
   ]
  },
  {
   "cell_type": "code",
   "execution_count": 8,
   "metadata": {},
   "outputs": [
    {
     "data": {
      "text/plain": [
       "([30344.0, 30072.0, 31010.0, 32678.0, 33731.0, 36506.0, 37967.0, 37725.0],\n",
       " [21287.0, 20888.0, 21209.0, 21711.0, 22625.0, 23397.0, 24791.0, 25045.0])"
      ]
     },
     "execution_count": 8,
     "metadata": {},
     "output_type": "execute_result"
    }
   ],
   "source": [
    "lbg0.data[\"A01\"], lbg0.data[\"H12\"]"
   ]
  },
  {
   "cell_type": "markdown",
   "metadata": {},
   "source": [
    "## pH titration analysis"
   ]
  },
  {
   "cell_type": "code",
   "execution_count": 28,
   "metadata": {},
   "outputs": [
    {
     "name": "stdout",
     "output_type": "stream",
     "text": [
      "PlateScheme(file='./scheme.txt', _buffer=['D01', 'E01', 'D12', 'E12'], _ctrl=['H12', 'F12', 'F01', 'B12', 'A12', 'C12', 'B01', 'C01', 'G12', 'G01', 'A01', 'H01'], _names={'G03': {'H12', 'B12', 'A01'}, 'NTT': {'C12', 'F01', 'F12'}, 'S202N': {'G12', 'C01', 'H01'}, 'V224Q': {'B01', 'A12', 'G01'}})\n",
      "\n",
      "Additions = [100, 2, 2, 2, 2, 2, 2].\n",
      "\n"
     ]
    },
    {
     "data": {
      "image/png": "[encoded data removed]",
      "text/plain": [
       "<Figure size 900x900 with 2 Axes>"
      ]
     },
     "metadata": {},
     "output_type": "display_data"
    }
   ],
   "source": [
    "warnings.filterwarnings(\"ignore\", category=UserWarning, module=\"clophfit.prtecan\")\n",
    "\n",
    "ph_an = TitrationAnalysis.fromlistfile(\"./list.pH\")\n",
    "ph_an.load_scheme(\"./scheme.txt\")\n",
    "print(ph_an.scheme)\n",
    "ph_an.load_additions(\"additions.pH\")\n",
    "print(f\"\\nAdditions = {ph_an.additions}.\\n\")\n",
    "g = ph_an.plot_buffer()"
   ]
  },
  {
   "cell_type": "code",
   "execution_count": 29,
   "metadata": {},
   "outputs": [
    {
     "name": "stdout",
     "output_type": "stream",
     "text": [
      "{'kind': 'pH', 'ini': 0, 'fin': -1, 'no_weight': False, 'tval': 0.95}\n",
      "{'bg': True, 'nrm': True, 'dil': True}\n",
      "{'bg': True, 'nrm': True, 'dil': True}\n"
     ]
    },
    {
     "data": {
      "text/plain": [
       "[     ss                                                msg  df      tval  \\\n",
       " F08   1  Both actual and predicted relative reductions ...   3  3.182446   \n",
       " F09   1  Both actual and predicted relative reductions ...   3  3.182446   \n",
       " G03   1  Both actual and predicted relative reductions ...   3  3.182446   \n",
       " C06   1  Both actual and predicted relative reductions ...   3  3.182446   \n",
       " C12   1  Both actual and predicted relative reductions ...   3  3.182446   \n",
       " ..   ..                                                ...  ..       ...   \n",
       " A11   1  Both actual and predicted relative reductions ...   3  3.182446   \n",
       " B08   1  Both actual and predicted relative reductions ...   3  3.182446   \n",
       " C04   1  Both actual and predicted relative reductions ...   3  3.182446   \n",
       " E03   1  Both actual and predicted relative reductions ...   3  3.182446   \n",
       " D02   1  Both actual and predicted relative reductions ...   3  3.182446   \n",
       " \n",
       "           chisqr         K           SA           SB        sK         sSA  \\\n",
       " F08   675.100804  7.781900  1063.927042   778.556919  0.644650   61.368228   \n",
       " F09   662.391816  7.830372  1061.300965   724.382380  0.546559   59.695735   \n",
       " G03  6071.583510  8.547700  1265.581838   736.887527  1.559820  147.703818   \n",
       " C06  1162.629636  7.367541  1334.854344  1075.131408  0.904174   97.564057   \n",
       " C12   355.186264  7.803368  1181.502508   787.938904  0.340560   44.153692   \n",
       " ..           ...       ...          ...          ...       ...         ...   \n",
       " A11  2335.403743  7.528930  1763.618795  1236.522907  0.630969  127.219001   \n",
       " B08  2669.549978  7.383867  1354.169535   839.117349  0.690488  146.517614   \n",
       " C04  2083.464534  7.145392  2120.244688  1189.150971  0.344811  149.730617   \n",
       " E03   187.052332  7.764648   985.119066   733.133771  0.383003   32.518175   \n",
       " D02  1893.981326  6.940136  1727.120725  1311.910269  0.775261  167.664955   \n",
       " \n",
       "             sSB ctrl  \n",
       " F08   90.428672  NaN  \n",
       " F09   92.739873  NaN  \n",
       " G03  638.683738  NaN  \n",
       " C06   93.557871  NaN  \n",
       " C12   66.592713  NTT  \n",
       " ..          ...  ...  \n",
       " A11  143.990856  NaN  \n",
       " B08  142.893711  NaN  \n",
       " C04  113.508014  NaN  \n",
       " E03   47.033681  NaN  \n",
       " D02  100.274842  NaN  \n",
       " \n",
       " [92 rows x 12 columns],\n",
       "      ss                                                msg  df      tval  \\\n",
       " F08   1  Both actual and predicted relative reductions ...   3  3.182446   \n",
       " F09   1  Both actual and predicted relative reductions ...   3  3.182446   \n",
       " G03   1  Both actual and predicted relative reductions ...   3  3.182446   \n",
       " C06   1  Both actual and predicted relative reductions ...   3  3.182446   \n",
       " C12   1  Both actual and predicted relative reductions ...   3  3.182446   \n",
       " ..   ..                                                ...  ..       ...   \n",
       " A11   1  Both actual and predicted relative reductions ...   3  3.182446   \n",
       " B08   1  Both actual and predicted relative reductions ...   3  3.182446   \n",
       " C04   1  Both actual and predicted relative reductions ...   3  3.182446   \n",
       " E03   1  Both actual and predicted relative reductions ...   3  3.182446   \n",
       " D02   1  Both actual and predicted relative reductions ...   3  3.182446   \n",
       " \n",
       "          chisqr         K         SA          SB        sK        sSA  \\\n",
       " F08    3.644733  7.978435  25.085172  317.086863  0.048738   4.204640   \n",
       " F09    5.174969  7.906687  26.550288  355.743256  0.050421   5.134320   \n",
       " G03  148.958190  8.000562  23.593108  642.922149  0.147956  26.683095   \n",
       " C06   16.085192  7.129875  40.007498  309.380927  0.104997  13.299091   \n",
       " C12    1.287801  7.600610  34.483109  226.229945  0.040884   2.889393   \n",
       " ..          ...       ...        ...         ...       ...        ...   \n",
       " A11   59.138283  7.108274  70.289173  450.780974  0.143094  25.894691   \n",
       " B08   81.343983  7.266407  50.098081  209.634030  0.391791  27.361932   \n",
       " C04  358.032426  7.152263  90.278534  387.456724  0.447350  61.777615   \n",
       " E03    1.504046  7.964779  17.481416  244.539466  0.040091   2.713415   \n",
       " D02   67.264564  7.053734  69.203906  411.528953  0.171607  28.761121   \n",
       " \n",
       "            sSB ctrl  \n",
       " F08   7.739937  NaN  \n",
       " F09   8.691331  NaN  \n",
       " G03  50.438062  NaN  \n",
       " C06   9.911436  NaN  \n",
       " C12   3.519828  NTT  \n",
       " ..         ...  ...  \n",
       " A11  18.842949  NaN  \n",
       " B08  23.613394  NaN  \n",
       " C04  47.185052  NaN  \n",
       " E03   4.914598  NaN  \n",
       " D02  19.680690  NaN  \n",
       " \n",
       " [92 rows x 12 columns],\n",
       "      ss                                                msg  df      tval  \\\n",
       " F08   1  Both actual and predicted relative reductions ...   7  2.364624   \n",
       " F09   1  Both actual and predicted relative reductions ...   7  2.364624   \n",
       " G03   1  Both actual and predicted relative reductions ...   7  2.364624   \n",
       " C06   1  Both actual and predicted relative reductions ...   7  2.364624   \n",
       " C12   1  Both actual and predicted relative reductions ...   7  2.364624   \n",
       " ..   ..                                                ...  ..       ...   \n",
       " A11   1  Both actual and predicted relative reductions ...   7  2.364624   \n",
       " B08   1  Both actual and predicted relative reductions ...   7  2.364624   \n",
       " C04   1  Both actual and predicted relative reductions ...   7  2.364624   \n",
       " E03   1  Both actual and predicted relative reductions ...   7  2.364624   \n",
       " D02   1  Both actual and predicted relative reductions ...   7  2.364624   \n",
       " \n",
       "            chisqr         K           SA           SB         SA2         SB2  \\\n",
       " F08  4.217532e+09  7.950061  1069.654422   703.105242   24.546358  316.721539   \n",
       " F09  1.121380e+09  7.915361  1040.926149   711.220312   29.030051  357.439736   \n",
       " G03  5.511240e+08  8.146645  1331.558312   812.166324   91.043077  647.752239   \n",
       " C06  2.849326e+09  7.101554  1341.736201  1098.120716   31.885118  309.539632   \n",
       " C12  3.690846e+10  7.740119  1200.455191   802.201474   71.178290  227.617683   \n",
       " ..            ...       ...          ...          ...         ...         ...   \n",
       " A11  1.167473e+10  7.288003  1781.595490  1267.441000  127.544657  457.519237   \n",
       " B08  7.738027e+08  6.995766  1396.795000   873.761639   23.397220  193.576874   \n",
       " C04  2.222688e+09  6.995832  2157.342001  1214.118854   70.937507  368.443223   \n",
       " E03  3.455570e+09  7.870151   985.683017   724.447240   -0.704975  241.716380   \n",
       " D02  1.105036e+09  6.978671  1718.992763  1316.382287   31.068046  412.808781   \n",
       " \n",
       "            sSA2        sSB2        sK        sSA        sSB ctrl  \n",
       " F08    1.198578    3.885346  0.064330   8.971828  35.911525  NaN  \n",
       " F09   14.311161    2.423127  0.053499  14.623550  19.867998  NaN  \n",
       " G03  103.620917   24.994071  0.233325  45.372810  28.429135  NaN  \n",
       " C06   64.469709    1.388460  0.240630  24.958455  34.811262  NaN  \n",
       " C12   30.079311    1.883508  0.114199  42.327031  37.372441  NTT  \n",
       " ..          ...         ...       ...        ...        ...  ...  \n",
       " A11   67.936055    8.948070  0.251287  34.204693  20.818560  NaN  \n",
       " B08  163.944048   53.499300  0.278717  64.089726  12.298630  NaN  \n",
       " C04  267.782771  143.183728  0.059780  20.206752   9.524788  NaN  \n",
       " E03   13.531067    1.708921  0.061268   1.546731   7.378607  NaN  \n",
       " D02    6.797344    0.999948  0.005111   1.006105   0.991165  NaN  \n",
       " \n",
       " [92 rows x 16 columns]]"
      ]
     },
     "execution_count": 29,
     "metadata": {},
     "output_type": "execute_result"
    }
   ],
   "source": [
    "ph_an.fitresults"
   ]
  },
  {
   "cell_type": "markdown",
   "metadata": {
    "jp-MarkdownHeadingCollapsed": true
   },
   "source": [
    "### Reassign Buffer Wells\n",
    "\n",
    "In the ClopHfit.prtecan module, you can reassess buffer wells, updating the data to account for any dilution (additions) and subtracting the updated buffer value. This is a handy feature that gives you more control over your analysis.\n",
    "\n",
    "For instance, consider the following data for a particular well:"
   ]
  },
  {
   "cell_type": "code",
   "execution_count": 10,
   "metadata": {},
   "outputs": [
    {
     "name": "stdout",
     "output_type": "stream",
     "text": [
      "[51.0, 52.0, 50.0, 51.0, 55.0, 58.0, 57.0]\n",
      "[-1.75, -0.765, -3.38, -3.18, -1.8900000000000001, -1.375, -3.9200000000000004]\n"
     ]
    }
   ],
   "source": [
    "print(ph_an.labelblocksgroups[1].data[\"D01\"])\n",
    "print(ph_an.data[1][\"D01\"])"
   ]
  },
  {
   "cell_type": "markdown",
   "metadata": {},
   "source": [
    "You can reassign buffer wells using the `buffer_wells` attribute:"
   ]
  },
  {
   "cell_type": "code",
   "execution_count": 11,
   "metadata": {},
   "outputs": [],
   "source": [
    "ph_an.buffer_wells = [\"D01\", \"E01\"]"
   ]
  },
  {
   "cell_type": "markdown",
   "metadata": {},
   "source": [
    "This updates the data for the specified wells, correcting for dilution and subtracting the buffer value:"
   ]
  },
  {
   "cell_type": "code",
   "execution_count": 12,
   "metadata": {},
   "outputs": [
    {
     "name": "stdout",
     "output_type": "stream",
     "text": [
      "[51.0, 52.0, 50.0, 51.0, 55.0, 58.0, 57.0]\n",
      "[1.0, 2.04, -1.56, -0.53, 1.62, 3.3000000000000003, 1.6800000000000002]\n"
     ]
    }
   ],
   "source": [
    "print(ph_an.labelblocksgroups[1].data[\"D01\"])\n",
    "print(ph_an.data[1][\"D01\"])"
   ]
  },
  {
   "cell_type": "markdown",
   "metadata": {},
   "source": [
    "The original data remains unchanged in `labelblocksgroups` while the adjusted data is available in `data`, providing a clear and accurate reflection of the process.\n",
    "\n",
    "### Fitting"
   ]
  },
  {
   "cell_type": "code",
   "execution_count": 13,
   "metadata": {},
   "outputs": [
    {
     "data": {
      "text/plain": [
       "[4649.0,\n",
       " 3785.2200000000003,\n",
       " 2060.76,\n",
       " 830.51,\n",
       " 474.66,\n",
       " 321.20000000000005,\n",
       " 259.28000000000003]"
      ]
     },
     "execution_count": 13,
     "metadata": {},
     "output_type": "execute_result"
    }
   ],
   "source": [
    "ph_an.data[1][\"A01\"]"
   ]
  },
  {
   "cell_type": "code",
   "execution_count": 14,
   "metadata": {},
   "outputs": [
    {
     "data": {
      "text/plain": [
       "[4649.0, 3711.0, 1981.5, 783.5, 439.5, 292.0, 231.5]"
      ]
     },
     "execution_count": 14,
     "metadata": {},
     "output_type": "execute_result"
    }
   ],
   "source": [
    "ph_an.labelblocksgroups[1].data_buffersubtracted[\"A01\"]"
   ]
  },
  {
   "cell_type": "code",
   "execution_count": 15,
   "metadata": {},
   "outputs": [],
   "source": [
    "# ph_an.datafit_params = {\"bg\": True}"
   ]
  },
  {
   "cell_type": "code",
   "execution_count": 16,
   "metadata": {},
   "outputs": [
    {
     "data": {
      "text/plain": [
       "[9218.0,\n",
       " 7181.82,\n",
       " 3453.32,\n",
       " 1445.3100000000002,\n",
       " 798.6600000000001,\n",
       " 619.3000000000001,\n",
       " 324.24]"
      ]
     },
     "execution_count": 16,
     "metadata": {},
     "output_type": "execute_result"
    }
   ],
   "source": [
    "ph_an.datafit_params = {\"bg\": 1, \"nrm\": 0, \"dil\": 1}\n",
    "ph_an.datafit[1][\"E06\"]"
   ]
  },
  {
   "cell_type": "code",
   "execution_count": 17,
   "metadata": {},
   "outputs": [
    {
     "data": {
      "text/plain": [
       "[9218.0,\n",
       " 7181.82,\n",
       " 3453.32,\n",
       " 1445.3100000000002,\n",
       " 798.6600000000001,\n",
       " 619.3000000000001,\n",
       " 324.24]"
      ]
     },
     "execution_count": 17,
     "metadata": {},
     "output_type": "execute_result"
    }
   ],
   "source": [
    "ph_an.data[1][\"E06\"]"
   ]
  },
  {
   "cell_type": "code",
   "execution_count": 18,
   "metadata": {},
   "outputs": [
    {
     "name": "stdout",
     "output_type": "stream",
     "text": [
      "{'bg': 1, 'nrm': 0, 'dil': 1}\n",
      "{'bg': 1, 'nrm': 0, 'dil': 1}\n"
     ]
    },
    {
     "data": {
      "text/html": [
       "<div>\n",
       "<style scoped>\n",
       "    .dataframe tbody tr th:only-of-type {\n",
       "        vertical-align: middle;\n",
       "    }\n",
       "\n",
       "    .dataframe tbody tr th {\n",
       "        vertical-align: top;\n",
       "    }\n",
       "\n",
       "    .dataframe thead th {\n",
       "        text-align: right;\n",
       "    }\n",
       "</style>\n",
       "<table border=\"1\" class=\"dataframe\">\n",
       "  <thead>\n",
       "    <tr style=\"text-align: right;\">\n",
       "      <th></th>\n",
       "      <th>ss</th>\n",
       "      <th>msg</th>\n",
       "      <th>df</th>\n",
       "      <th>tval</th>\n",
       "      <th>chisqr</th>\n",
       "      <th>K</th>\n",
       "      <th>SA</th>\n",
       "      <th>SB</th>\n",
       "      <th>sK</th>\n",
       "      <th>sSA</th>\n",
       "      <th>sSB</th>\n",
       "      <th>ctrl</th>\n",
       "    </tr>\n",
       "  </thead>\n",
       "  <tbody>\n",
       "    <tr>\n",
       "      <th>F08</th>\n",
       "      <td>1</td>\n",
       "      <td>Both actual and predicted relative reductions ...</td>\n",
       "      <td>3</td>\n",
       "      <td>3.182446</td>\n",
       "      <td>277.399632</td>\n",
       "      <td>7.946062</td>\n",
       "      <td>245.854744</td>\n",
       "      <td>3485.428843</td>\n",
       "      <td>0.037943</td>\n",
       "      <td>37.084418</td>\n",
       "      <td>65.705387</td>\n",
       "      <td>NaN</td>\n",
       "    </tr>\n",
       "    <tr>\n",
       "      <th>F09</th>\n",
       "      <td>1</td>\n",
       "      <td>Both actual and predicted relative reductions ...</td>\n",
       "      <td>3</td>\n",
       "      <td>3.182446</td>\n",
       "      <td>362.426166</td>\n",
       "      <td>7.872642</td>\n",
       "      <td>263.160674</td>\n",
       "      <td>3920.062297</td>\n",
       "      <td>0.037638</td>\n",
       "      <td>43.486145</td>\n",
       "      <td>70.819188</td>\n",
       "      <td>NaN</td>\n",
       "    </tr>\n",
       "    <tr>\n",
       "      <th>G03</th>\n",
       "      <td>1</td>\n",
       "      <td>Both actual and predicted relative reductions ...</td>\n",
       "      <td>3</td>\n",
       "      <td>3.182446</td>\n",
       "      <td>23011.102013</td>\n",
       "      <td>7.973489</td>\n",
       "      <td>234.189682</td>\n",
       "      <td>7129.252954</td>\n",
       "      <td>0.163745</td>\n",
       "      <td>334.643650</td>\n",
       "      <td>612.406905</td>\n",
       "      <td>NaN</td>\n",
       "    </tr>\n",
       "    <tr>\n",
       "      <th>C06</th>\n",
       "      <td>1</td>\n",
       "      <td>Both actual and predicted relative reductions ...</td>\n",
       "      <td>3</td>\n",
       "      <td>3.182446</td>\n",
       "      <td>3322.519691</td>\n",
       "      <td>7.074582</td>\n",
       "      <td>419.012477</td>\n",
       "      <td>3441.113931</td>\n",
       "      <td>0.135973</td>\n",
       "      <td>198.959783</td>\n",
       "      <td>139.411048</td>\n",
       "      <td>NaN</td>\n",
       "    </tr>\n",
       "    <tr>\n",
       "      <th>C12</th>\n",
       "      <td>1</td>\n",
       "      <td>Both actual and predicted relative reductions ...</td>\n",
       "      <td>3</td>\n",
       "      <td>3.182446</td>\n",
       "      <td>145.673618</td>\n",
       "      <td>7.559628</td>\n",
       "      <td>359.815432</td>\n",
       "      <td>2485.889022</td>\n",
       "      <td>0.039118</td>\n",
       "      <td>31.313914</td>\n",
       "      <td>36.574836</td>\n",
       "      <td>NTT</td>\n",
       "    </tr>\n",
       "    <tr>\n",
       "      <th>...</th>\n",
       "      <td>...</td>\n",
       "      <td>...</td>\n",
       "      <td>...</td>\n",
       "      <td>...</td>\n",
       "      <td>...</td>\n",
       "      <td>...</td>\n",
       "      <td>...</td>\n",
       "      <td>...</td>\n",
       "      <td>...</td>\n",
       "      <td>...</td>\n",
       "      <td>...</td>\n",
       "      <td>...</td>\n",
       "    </tr>\n",
       "    <tr>\n",
       "      <th>A11</th>\n",
       "      <td>1</td>\n",
       "      <td>Both actual and predicted relative reductions ...</td>\n",
       "      <td>3</td>\n",
       "      <td>3.182446</td>\n",
       "      <td>6007.681893</td>\n",
       "      <td>7.044073</td>\n",
       "      <td>773.785641</td>\n",
       "      <td>5032.265992</td>\n",
       "      <td>0.130672</td>\n",
       "      <td>273.852354</td>\n",
       "      <td>185.326454</td>\n",
       "      <td>NaN</td>\n",
       "    </tr>\n",
       "    <tr>\n",
       "      <th>B08</th>\n",
       "      <td>1</td>\n",
       "      <td>Both actual and predicted relative reductions ...</td>\n",
       "      <td>3</td>\n",
       "      <td>3.182446</td>\n",
       "      <td>7834.477123</td>\n",
       "      <td>7.196825</td>\n",
       "      <td>540.470923</td>\n",
       "      <td>2304.012455</td>\n",
       "      <td>0.350405</td>\n",
       "      <td>280.519765</td>\n",
       "      <td>224.839606</td>\n",
       "      <td>NaN</td>\n",
       "    </tr>\n",
       "    <tr>\n",
       "      <th>C04</th>\n",
       "      <td>1</td>\n",
       "      <td>Both actual and predicted relative reductions ...</td>\n",
       "      <td>3</td>\n",
       "      <td>3.182446</td>\n",
       "      <td>33869.141434</td>\n",
       "      <td>7.074948</td>\n",
       "      <td>1013.521126</td>\n",
       "      <td>4306.650720</td>\n",
       "      <td>0.398369</td>\n",
       "      <td>635.054330</td>\n",
       "      <td>445.171956</td>\n",
       "      <td>NaN</td>\n",
       "    </tr>\n",
       "    <tr>\n",
       "      <th>E03</th>\n",
       "      <td>1</td>\n",
       "      <td>Both actual and predicted relative reductions ...</td>\n",
       "      <td>3</td>\n",
       "      <td>3.182446</td>\n",
       "      <td>329.912514</td>\n",
       "      <td>7.933957</td>\n",
       "      <td>154.665787</td>\n",
       "      <td>2679.236799</td>\n",
       "      <td>0.052908</td>\n",
       "      <td>40.610099</td>\n",
       "      <td>70.943180</td>\n",
       "      <td>NaN</td>\n",
       "    </tr>\n",
       "    <tr>\n",
       "      <th>D02</th>\n",
       "      <td>1</td>\n",
       "      <td>Both actual and predicted relative reductions ...</td>\n",
       "      <td>3</td>\n",
       "      <td>3.182446</td>\n",
       "      <td>7489.195623</td>\n",
       "      <td>6.985016</td>\n",
       "      <td>757.818516</td>\n",
       "      <td>4592.315685</td>\n",
       "      <td>0.164616</td>\n",
       "      <td>320.723752</td>\n",
       "      <td>202.539200</td>\n",
       "      <td>NaN</td>\n",
       "    </tr>\n",
       "  </tbody>\n",
       "</table>\n",
       "<p>92 rows × 12 columns</p>\n",
       "</div>"
      ],
      "text/plain": [
       "     ss                                                msg  df      tval  \\\n",
       "F08   1  Both actual and predicted relative reductions ...   3  3.182446   \n",
       "F09   1  Both actual and predicted relative reductions ...   3  3.182446   \n",
       "G03   1  Both actual and predicted relative reductions ...   3  3.182446   \n",
       "C06   1  Both actual and predicted relative reductions ...   3  3.182446   \n",
       "C12   1  Both actual and predicted relative reductions ...   3  3.182446   \n",
       "..   ..                                                ...  ..       ...   \n",
       "A11   1  Both actual and predicted relative reductions ...   3  3.182446   \n",
       "B08   1  Both actual and predicted relative reductions ...   3  3.182446   \n",
       "C04   1  Both actual and predicted relative reductions ...   3  3.182446   \n",
       "E03   1  Both actual and predicted relative reductions ...   3  3.182446   \n",
       "D02   1  Both actual and predicted relative reductions ...   3  3.182446   \n",
       "\n",
       "           chisqr         K           SA           SB        sK         sSA  \\\n",
       "F08    277.399632  7.946062   245.854744  3485.428843  0.037943   37.084418   \n",
       "F09    362.426166  7.872642   263.160674  3920.062297  0.037638   43.486145   \n",
       "G03  23011.102013  7.973489   234.189682  7129.252954  0.163745  334.643650   \n",
       "C06   3322.519691  7.074582   419.012477  3441.113931  0.135973  198.959783   \n",
       "C12    145.673618  7.559628   359.815432  2485.889022  0.039118   31.313914   \n",
       "..            ...       ...          ...          ...       ...         ...   \n",
       "A11   6007.681893  7.044073   773.785641  5032.265992  0.130672  273.852354   \n",
       "B08   7834.477123  7.196825   540.470923  2304.012455  0.350405  280.519765   \n",
       "C04  33869.141434  7.074948  1013.521126  4306.650720  0.398369  635.054330   \n",
       "E03    329.912514  7.933957   154.665787  2679.236799  0.052908   40.610099   \n",
       "D02   7489.195623  6.985016   757.818516  4592.315685  0.164616  320.723752   \n",
       "\n",
       "            sSB ctrl  \n",
       "F08   65.705387  NaN  \n",
       "F09   70.819188  NaN  \n",
       "G03  612.406905  NaN  \n",
       "C06  139.411048  NaN  \n",
       "C12   36.574836  NTT  \n",
       "..          ...  ...  \n",
       "A11  185.326454  NaN  \n",
       "B08  224.839606  NaN  \n",
       "C04  445.171956  NaN  \n",
       "E03   70.943180  NaN  \n",
       "D02  202.539200  NaN  \n",
       "\n",
       "[92 rows x 12 columns]"
      ]
     },
     "execution_count": 18,
     "metadata": {},
     "output_type": "execute_result"
    }
   ],
   "source": [
    "ph_an.fitresults[1]"
   ]
  },
  {
   "cell_type": "code",
   "execution_count": 19,
   "metadata": {},
   "outputs": [
    {
     "name": "stdout",
     "output_type": "stream",
     "text": [
      "{'bg': 1, 'nrm': 0, 'dil': 1}\n",
      "{'bg': 1, 'nrm': 0, 'dil': 1}\n"
     ]
    },
    {
     "data": {
      "text/plain": [
       "[     ss                                                msg  df      tval  \\\n",
       " F08   1  Both actual and predicted relative reductions ...   4  2.776445   \n",
       " F09   1  Both actual and predicted relative reductions ...   4  2.776445   \n",
       " G03   1  Both actual and predicted relative reductions ...   4  2.776445   \n",
       " C06   1  Both actual and predicted relative reductions ...   4  2.776445   \n",
       " C12   1  Both actual and predicted relative reductions ...   4  2.776445   \n",
       " ..   ..                                                ...  ..       ...   \n",
       " A11   1  Both actual and predicted relative reductions ...   4  2.776445   \n",
       " B08   1  Both actual and predicted relative reductions ...   4  2.776445   \n",
       " C04   1  Both actual and predicted relative reductions ...   4  2.776445   \n",
       " E03   1  Both actual and predicted relative reductions ...   4  2.776445   \n",
       " D02   1  Both actual and predicted relative reductions ...   4  2.776445   \n",
       " \n",
       "            chisqr         K            SA            SB         sK  \\\n",
       " F08  1.947604e+06  8.225505   7037.849892   2622.446016   2.178931   \n",
       " F09  3.405032e+05  7.958245   7677.004229   1961.698543   0.627577   \n",
       " G03  2.578518e+07  9.642491   9645.264194 -13256.237111  38.676553   \n",
       " C06  7.512532e+05  7.789873  12675.464675   8218.672343   1.134308   \n",
       " C12  7.290495e+05  7.959407   9830.718028   3073.277146   0.777000   \n",
       " ..            ...       ...           ...           ...        ...   \n",
       " A11  3.809176e+06  7.819755  20536.904121  11063.368958   1.211461   \n",
       " B08  8.138904e+05  7.477591  13445.215177   4034.412025   0.529061   \n",
       " C04  2.655060e+06  7.307005  27513.048783  10345.745658   0.516158   \n",
       " E03  2.965026e+05  7.965056   6084.286062   2126.958844   0.847841   \n",
       " D02  1.983051e+06  7.221989  19768.037327  12919.441446   1.113027   \n",
       " \n",
       "              sSA           sSB ctrl  \n",
       " F08  2093.002425  6.219666e+03  NaN  \n",
       " F09   927.747036  2.011177e+03  NaN  \n",
       " G03  6820.971697  1.632093e+06  NaN  \n",
       " C06  1435.071312  2.623575e+03  NaN  \n",
       " C12  1357.160920  2.945705e+03  NTT  \n",
       " ..           ...           ...  ...  \n",
       " A11  3207.427673  6.035561e+03  NaN  \n",
       " B08  1630.112633  2.259888e+03  NaN  \n",
       " C04  3111.605009  3.750125e+03  NaN  \n",
       " E03   864.357974  1.887610e+03  NaN  \n",
       " D02  2770.066424  3.118111e+03  NaN  \n",
       " \n",
       " [92 rows x 12 columns],\n",
       "      ss                                                msg  df      tval  \\\n",
       " F08   1  Both actual and predicted relative reductions ...   4  2.776445   \n",
       " F09   1  Both actual and predicted relative reductions ...   4  2.776445   \n",
       " G03   1  Both actual and predicted relative reductions ...   4  2.776445   \n",
       " C06   1  Both actual and predicted relative reductions ...   4  2.776445   \n",
       " C12   1  Both actual and predicted relative reductions ...   4  2.776445   \n",
       " ..   ..                                                ...  ..       ...   \n",
       " A11   1  Both actual and predicted relative reductions ...   4  2.776445   \n",
       " B08   1  Both actual and predicted relative reductions ...   4  2.776445   \n",
       " C04   1  Both actual and predicted relative reductions ...   4  2.776445   \n",
       " E03   1  Both actual and predicted relative reductions ...   4  2.776445   \n",
       " D02   1  Both actual and predicted relative reductions ...   4  2.776445   \n",
       " \n",
       "            chisqr         K          SA           SB        sK         sSA  \\\n",
       " F08    760.254372  7.935345  226.886225  3477.430560  0.051724   44.072126   \n",
       " F09    388.598609  7.868232  254.084093  3916.611196  0.032107   32.015123   \n",
       " G03  28083.916849  7.953522  153.481733  7099.304552  0.148056  266.730338   \n",
       " C06   3464.300450  7.051993  369.910212  3433.677421  0.103783  123.506637   \n",
       " C12   1086.616060  7.535356  327.397547  2477.574704  0.085184   58.526066   \n",
       " ..            ...       ...         ...          ...       ...         ...   \n",
       " A11  11321.432609  6.995932  631.985860  5008.646501  0.131546  228.510650   \n",
       " B08   9645.168832  7.111102  444.923166  2283.152952  0.288476  201.313078   \n",
       " C04  33952.775013  6.998731  849.941809  4274.873786  0.291078  395.256081   \n",
       " E03    273.727398  7.931105  150.565155  2677.659989  0.039863   26.471277   \n",
       " D02   7669.918047  6.954012  675.032808  4579.149672  0.121596  191.496432   \n",
       " \n",
       "             sSB ctrl  \n",
       " F08   93.243439  NaN  \n",
       " F09   63.207603  NaN  \n",
       " G03  575.315392  NaN  \n",
       " C06  121.479633  NaN  \n",
       " C12   85.184538  NTT  \n",
       " ..          ...  ...  \n",
       " A11  214.959397  NaN  \n",
       " B08  207.511530  NaN  \n",
       " C04  372.649770  NaN  \n",
       " E03   55.755827  NaN  \n",
       " D02  174.206456  NaN  \n",
       " \n",
       " [92 rows x 12 columns],\n",
       "      ss                                                msg  df      tval  \\\n",
       " F08   1  Both actual and predicted relative reductions ...   9  2.262157   \n",
       " F09   1  Both actual and predicted relative reductions ...   9  2.262157   \n",
       " G03   1  Both actual and predicted relative reductions ...   9  2.262157   \n",
       " C06   1  Both actual and predicted relative reductions ...   9  2.262157   \n",
       " C12   1  Both actual and predicted relative reductions ...   9  2.262157   \n",
       " ..   ..                                                ...  ..       ...   \n",
       " A11   1  Both actual and predicted relative reductions ...   9  2.262157   \n",
       " B08   1  Both actual and predicted relative reductions ...   9  2.262157   \n",
       " C04   1  Both actual and predicted relative reductions ...   9  2.262157   \n",
       " E03   1  Both actual and predicted relative reductions ...   9  2.262157   \n",
       " D02   1  Both actual and predicted relative reductions ...   9  2.262157   \n",
       " \n",
       "            chisqr         K            SA            SB          SA2  \\\n",
       " F08  1.918998e+10  7.964650   7675.646838   2912.474427   295.148920   \n",
       " F09  5.033982e+11  7.880272   8109.941790   2058.965046   282.466959   \n",
       " G03  2.868455e+09  7.776955  10008.509481   4682.744688 -1053.429058   \n",
       " C06  3.085848e+11  7.837527  12851.437785   8124.241413  2797.454872   \n",
       " C12  3.668694e+11  7.530370  10699.821767   5244.011145   341.230520   \n",
       " ..            ...       ...           ...           ...          ...   \n",
       " A11  5.488604e+11  7.676040  21958.490475  11370.632303  3212.528283   \n",
       " B08  1.175822e+10  7.516151  13119.212377   3836.868091   951.011365   \n",
       " C04  1.133486e+11  7.358098  27646.917964  10192.020604  1801.714255   \n",
       " E03  4.632513e+09  7.876717   6204.221314   2604.011204    29.287923   \n",
       " D02  6.164028e+10  7.024726  21372.634792  13364.819811   717.849359   \n",
       " \n",
       "              SB2        sSA2         sSB2        sK          sSA         sSB  \\\n",
       " F08  3501.050669   61.260752    10.895661  0.025545   107.768010  115.260426   \n",
       " F09  3935.476563   58.769266    22.822895  0.019232   248.020055   69.187888   \n",
       " G03  6917.130911  927.518145    50.939885  0.100410   115.607182   61.868211   \n",
       " C06  3428.515414  217.885192    61.778615  0.079464   414.151051   91.273275   \n",
       " C12  2477.283296  156.894347     5.000593  0.059029   707.447401  526.407364   \n",
       " ..           ...         ...          ...       ...          ...         ...   \n",
       " A11  5053.086231  864.809843    37.828965  0.301021  3143.897483  558.412148   \n",
       " B08  2375.613918  164.605118   317.884076  0.165572   258.183312  392.068582   \n",
       " C04  4469.674087  550.327956  1011.464152  0.085265   364.575250  282.196737   \n",
       " E03  2654.645070   77.810564     7.800015  0.032142    58.252725  266.336942   \n",
       " D02  4573.285892   41.838872     6.897872  0.079198   736.793045  283.314463   \n",
       " \n",
       "     ctrl  \n",
       " F08  NaN  \n",
       " F09  NaN  \n",
       " G03  NaN  \n",
       " C06  NaN  \n",
       " C12  NTT  \n",
       " ..   ...  \n",
       " A11  NaN  \n",
       " B08  NaN  \n",
       " C04  NaN  \n",
       " E03  NaN  \n",
       " D02  NaN  \n",
       " \n",
       " [92 rows x 16 columns]]"
      ]
     },
     "execution_count": 19,
     "metadata": {},
     "output_type": "execute_result"
    }
   ],
   "source": [
    "ph_an.fit(\"pH\")"
   ]
  },
  {
   "cell_type": "code",
   "execution_count": 20,
   "metadata": {},
   "outputs": [
    {
     "data": {
      "text/html": [
       "<div>\n",
       "<style scoped>\n",
       "    .dataframe tbody tr th:only-of-type {\n",
       "        vertical-align: middle;\n",
       "    }\n",
       "\n",
       "    .dataframe tbody tr th {\n",
       "        vertical-align: top;\n",
       "    }\n",
       "\n",
       "    .dataframe thead th {\n",
       "        text-align: right;\n",
       "    }\n",
       "</style>\n",
       "<table border=\"1\" class=\"dataframe\">\n",
       "  <thead>\n",
       "    <tr style=\"text-align: right;\">\n",
       "      <th></th>\n",
       "      <th>ss</th>\n",
       "      <th>msg</th>\n",
       "      <th>df</th>\n",
       "      <th>tval</th>\n",
       "      <th>chisqr</th>\n",
       "      <th>K</th>\n",
       "      <th>SA</th>\n",
       "      <th>SB</th>\n",
       "      <th>sK</th>\n",
       "      <th>sSA</th>\n",
       "      <th>sSB</th>\n",
       "      <th>ctrl</th>\n",
       "    </tr>\n",
       "  </thead>\n",
       "  <tbody>\n",
       "    <tr>\n",
       "      <th>F08</th>\n",
       "      <td>1</td>\n",
       "      <td>Both actual and predicted relative reductions ...</td>\n",
       "      <td>3</td>\n",
       "      <td>3.182446</td>\n",
       "      <td>277.399632</td>\n",
       "      <td>7.946062</td>\n",
       "      <td>245.854744</td>\n",
       "      <td>3485.428843</td>\n",
       "      <td>0.037943</td>\n",
       "      <td>37.084418</td>\n",
       "      <td>65.705387</td>\n",
       "      <td>NaN</td>\n",
       "    </tr>\n",
       "    <tr>\n",
       "      <th>F09</th>\n",
       "      <td>1</td>\n",
       "      <td>Both actual and predicted relative reductions ...</td>\n",
       "      <td>3</td>\n",
       "      <td>3.182446</td>\n",
       "      <td>362.426166</td>\n",
       "      <td>7.872642</td>\n",
       "      <td>263.160674</td>\n",
       "      <td>3920.062297</td>\n",
       "      <td>0.037638</td>\n",
       "      <td>43.486145</td>\n",
       "      <td>70.819188</td>\n",
       "      <td>NaN</td>\n",
       "    </tr>\n",
       "    <tr>\n",
       "      <th>G03</th>\n",
       "      <td>1</td>\n",
       "      <td>Both actual and predicted relative reductions ...</td>\n",
       "      <td>3</td>\n",
       "      <td>3.182446</td>\n",
       "      <td>23011.102013</td>\n",
       "      <td>7.973489</td>\n",
       "      <td>234.189682</td>\n",
       "      <td>7129.252954</td>\n",
       "      <td>0.163745</td>\n",
       "      <td>334.643650</td>\n",
       "      <td>612.406905</td>\n",
       "      <td>NaN</td>\n",
       "    </tr>\n",
       "    <tr>\n",
       "      <th>C06</th>\n",
       "      <td>1</td>\n",
       "      <td>Both actual and predicted relative reductions ...</td>\n",
       "      <td>3</td>\n",
       "      <td>3.182446</td>\n",
       "      <td>3322.519691</td>\n",
       "      <td>7.074582</td>\n",
       "      <td>419.012477</td>\n",
       "      <td>3441.113931</td>\n",
       "      <td>0.135973</td>\n",
       "      <td>198.959783</td>\n",
       "      <td>139.411048</td>\n",
       "      <td>NaN</td>\n",
       "    </tr>\n",
       "    <tr>\n",
       "      <th>C12</th>\n",
       "      <td>1</td>\n",
       "      <td>Both actual and predicted relative reductions ...</td>\n",
       "      <td>3</td>\n",
       "      <td>3.182446</td>\n",
       "      <td>145.673618</td>\n",
       "      <td>7.559628</td>\n",
       "      <td>359.815432</td>\n",
       "      <td>2485.889022</td>\n",
       "      <td>0.039118</td>\n",
       "      <td>31.313914</td>\n",
       "      <td>36.574836</td>\n",
       "      <td>NTT</td>\n",
       "    </tr>\n",
       "    <tr>\n",
       "      <th>...</th>\n",
       "      <td>...</td>\n",
       "      <td>...</td>\n",
       "      <td>...</td>\n",
       "      <td>...</td>\n",
       "      <td>...</td>\n",
       "      <td>...</td>\n",
       "      <td>...</td>\n",
       "      <td>...</td>\n",
       "      <td>...</td>\n",
       "      <td>...</td>\n",
       "      <td>...</td>\n",
       "      <td>...</td>\n",
       "    </tr>\n",
       "    <tr>\n",
       "      <th>A11</th>\n",
       "      <td>1</td>\n",
       "      <td>Both actual and predicted relative reductions ...</td>\n",
       "      <td>3</td>\n",
       "      <td>3.182446</td>\n",
       "      <td>6007.681893</td>\n",
       "      <td>7.044073</td>\n",
       "      <td>773.785641</td>\n",
       "      <td>5032.265992</td>\n",
       "      <td>0.130672</td>\n",
       "      <td>273.852354</td>\n",
       "      <td>185.326454</td>\n",
       "      <td>NaN</td>\n",
       "    </tr>\n",
       "    <tr>\n",
       "      <th>B08</th>\n",
       "      <td>1</td>\n",
       "      <td>Both actual and predicted relative reductions ...</td>\n",
       "      <td>3</td>\n",
       "      <td>3.182446</td>\n",
       "      <td>7834.477123</td>\n",
       "      <td>7.196825</td>\n",
       "      <td>540.470923</td>\n",
       "      <td>2304.012455</td>\n",
       "      <td>0.350405</td>\n",
       "      <td>280.519765</td>\n",
       "      <td>224.839606</td>\n",
       "      <td>NaN</td>\n",
       "    </tr>\n",
       "    <tr>\n",
       "      <th>C04</th>\n",
       "      <td>1</td>\n",
       "      <td>Both actual and predicted relative reductions ...</td>\n",
       "      <td>3</td>\n",
       "      <td>3.182446</td>\n",
       "      <td>33869.141434</td>\n",
       "      <td>7.074948</td>\n",
       "      <td>1013.521126</td>\n",
       "      <td>4306.650720</td>\n",
       "      <td>0.398369</td>\n",
       "      <td>635.054330</td>\n",
       "      <td>445.171956</td>\n",
       "      <td>NaN</td>\n",
       "    </tr>\n",
       "    <tr>\n",
       "      <th>E03</th>\n",
       "      <td>1</td>\n",
       "      <td>Both actual and predicted relative reductions ...</td>\n",
       "      <td>3</td>\n",
       "      <td>3.182446</td>\n",
       "      <td>329.912514</td>\n",
       "      <td>7.933957</td>\n",
       "      <td>154.665787</td>\n",
       "      <td>2679.236799</td>\n",
       "      <td>0.052908</td>\n",
       "      <td>40.610099</td>\n",
       "      <td>70.943180</td>\n",
       "      <td>NaN</td>\n",
       "    </tr>\n",
       "    <tr>\n",
       "      <th>D02</th>\n",
       "      <td>1</td>\n",
       "      <td>Both actual and predicted relative reductions ...</td>\n",
       "      <td>3</td>\n",
       "      <td>3.182446</td>\n",
       "      <td>7489.195623</td>\n",
       "      <td>6.985016</td>\n",
       "      <td>757.818516</td>\n",
       "      <td>4592.315685</td>\n",
       "      <td>0.164616</td>\n",
       "      <td>320.723752</td>\n",
       "      <td>202.539200</td>\n",
       "      <td>NaN</td>\n",
       "    </tr>\n",
       "  </tbody>\n",
       "</table>\n",
       "<p>92 rows × 12 columns</p>\n",
       "</div>"
      ],
      "text/plain": [
       "     ss                                                msg  df      tval  \\\n",
       "F08   1  Both actual and predicted relative reductions ...   3  3.182446   \n",
       "F09   1  Both actual and predicted relative reductions ...   3  3.182446   \n",
       "G03   1  Both actual and predicted relative reductions ...   3  3.182446   \n",
       "C06   1  Both actual and predicted relative reductions ...   3  3.182446   \n",
       "C12   1  Both actual and predicted relative reductions ...   3  3.182446   \n",
       "..   ..                                                ...  ..       ...   \n",
       "A11   1  Both actual and predicted relative reductions ...   3  3.182446   \n",
       "B08   1  Both actual and predicted relative reductions ...   3  3.182446   \n",
       "C04   1  Both actual and predicted relative reductions ...   3  3.182446   \n",
       "E03   1  Both actual and predicted relative reductions ...   3  3.182446   \n",
       "D02   1  Both actual and predicted relative reductions ...   3  3.182446   \n",
       "\n",
       "           chisqr         K           SA           SB        sK         sSA  \\\n",
       "F08    277.399632  7.946062   245.854744  3485.428843  0.037943   37.084418   \n",
       "F09    362.426166  7.872642   263.160674  3920.062297  0.037638   43.486145   \n",
       "G03  23011.102013  7.973489   234.189682  7129.252954  0.163745  334.643650   \n",
       "C06   3322.519691  7.074582   419.012477  3441.113931  0.135973  198.959783   \n",
       "C12    145.673618  7.559628   359.815432  2485.889022  0.039118   31.313914   \n",
       "..            ...       ...          ...          ...       ...         ...   \n",
       "A11   6007.681893  7.044073   773.785641  5032.265992  0.130672  273.852354   \n",
       "B08   7834.477123  7.196825   540.470923  2304.012455  0.350405  280.519765   \n",
       "C04  33869.141434  7.074948  1013.521126  4306.650720  0.398369  635.054330   \n",
       "E03    329.912514  7.933957   154.665787  2679.236799  0.052908   40.610099   \n",
       "D02   7489.195623  6.985016   757.818516  4592.315685  0.164616  320.723752   \n",
       "\n",
       "            sSB ctrl  \n",
       "F08   65.705387  NaN  \n",
       "F09   70.819188  NaN  \n",
       "G03  612.406905  NaN  \n",
       "C06  139.411048  NaN  \n",
       "C12   36.574836  NTT  \n",
       "..          ...  ...  \n",
       "A11  185.326454  NaN  \n",
       "B08  224.839606  NaN  \n",
       "C04  445.171956  NaN  \n",
       "E03   70.943180  NaN  \n",
       "D02  202.539200  NaN  \n",
       "\n",
       "[92 rows x 12 columns]"
      ]
     },
     "execution_count": 20,
     "metadata": {},
     "output_type": "execute_result"
    }
   ],
   "source": [
    "ph_an.fitresults[1]"
   ]
  },
  {
   "cell_type": "code",
   "execution_count": 21,
   "metadata": {},
   "outputs": [
    {
     "data": {
      "text/plain": [
       "{'_datafit',\n",
       " '_datafit_params',\n",
       " '_fit_args',\n",
       " '_fitresults',\n",
       " '_scheme',\n",
       " 'fz',\n",
       " 'keys_unk'}"
      ]
     },
     "execution_count": 21,
     "metadata": {},
     "output_type": "execute_result"
    }
   ],
   "source": [
    "set(ph_an.__dict__.keys()) - set(tit.__dict__.keys())"
   ]
  },
  {
   "cell_type": "code",
   "execution_count": 22,
   "metadata": {},
   "outputs": [],
   "source": [
    "from clophfit.binding import fit_titration"
   ]
  },
  {
   "cell_type": "code",
   "execution_count": 23,
   "metadata": {},
   "outputs": [
    {
     "ename": "NameError",
     "evalue": "name 'well' is not defined",
     "output_type": "error",
     "traceback": [
      "\u001b[0;31m---------------------------------------------------------------------------\u001b[0m",
      "\u001b[0;31mNameError\u001b[0m                                 Traceback (most recent call last)",
      "Cell \u001b[0;32mIn[23], line 1\u001b[0m\n\u001b[0;32m----> 1\u001b[0m fit_titration(\u001b[38;5;124m\"\u001b[39m\u001b[38;5;124mpH\u001b[39m\u001b[38;5;124m\"\u001b[39m, ph_an\u001b[38;5;241m.\u001b[39mconc, ph_an\u001b[38;5;241m.\u001b[39mdata[\u001b[38;5;241m1\u001b[39m][\u001b[43mwell\u001b[49m])\n",
      "\u001b[0;31mNameError\u001b[0m: name 'well' is not defined"
     ]
    }
   ],
   "source": [
    "fit_titration(\"pH\", ph_an.conc, ph_an.data[1][well])"
   ]
  },
  {
   "cell_type": "code",
   "execution_count": null,
   "metadata": {},
   "outputs": [],
   "source": [
    "well = \"H03\"\n",
    "y0 = np.array(ph_an.data[0][well])\n",
    "y1 = np.array(ph_an.labelblocksgroups[1].data_buffersubtracted_norm[well])\n",
    "# y1 = np.array(ph_an.data[1][well])\n",
    "x = np.array(ph_an.conc)\n",
    "ds = fitting.Dataset(x, {\"y1\": y1}, is_ph=True)\n",
    "rfit = fitting.fit_binding_glob(ds)\n",
    "rfit.result.params"
   ]
  },
  {
   "cell_type": "code",
   "execution_count": null,
   "metadata": {},
   "outputs": [],
   "source": [
    "l = [1, 2, 3]"
   ]
  },
  {
   "cell_type": "code",
   "execution_count": null,
   "metadata": {},
   "outputs": [],
   "source": [
    "l[-1]"
   ]
  },
  {
   "cell_type": "code",
   "execution_count": null,
   "metadata": {},
   "outputs": [],
   "source": [
    "rfit.result"
   ]
  },
  {
   "cell_type": "code",
   "execution_count": null,
   "metadata": {},
   "outputs": [],
   "source": [
    "remcee = rfit.mini.emcee(burn=50, steps=500, workers=8, thin=10)"
   ]
  },
  {
   "cell_type": "code",
   "execution_count": null,
   "metadata": {},
   "outputs": [],
   "source": [
    "f, hdi = plotting.plot_emcee(remcee)\n",
    "print(hdi)"
   ]
  },
  {
   "cell_type": "raw",
   "metadata": {},
   "source": [
    "R1 = res.params[\"S0_1\"].value / res.params[\"S1_1\"].value\n",
    "R2 = res.params[\"S0_2\"].value / res.params[\"S1_2\"].value\n",
    "res.params.add(\"R_1\", value=R1, min=0, max=200)\n",
    "res.params.add(\"R_2\", value=R2, min=0, max=200)\n",
    "res.params.pop(\"S0_1\")\n",
    "res.params.pop(\"S0_2\")\n",
    "# res.params.add(\"__lnsigma\", value=np.log(0.1), min=np.log(0.001), max=np.log(6))\n",
    "res.params"
   ]
  },
  {
   "cell_type": "code",
   "execution_count": null,
   "metadata": {},
   "outputs": [],
   "source": [
    "samples = remcee.flatchain[[\"K\"]]\n",
    "# Convert the dictionary of flatchains to an ArviZ InferenceData object\n",
    "samples_dict = {key: np.array(val) for key, val in samples.items()}\n",
    "idata = az.from_dict(posterior=samples_dict)\n",
    "k_samples = idata.posterior[\"K\"].values\n",
    "percentile_value = np.percentile(k_samples, 3)\n",
    "print(f\"Value at which the probability of being higher is 99%: {percentile_value}\")\n",
    "\n",
    "az.plot_forest(k_samples)"
   ]
  },
  {
   "cell_type": "markdown",
   "metadata": {},
   "source": [
    "## Cl titration analysis"
   ]
  },
  {
   "cell_type": "code",
   "execution_count": null,
   "metadata": {},
   "outputs": [],
   "source": [
    "cl_an = prtecan.TitrationAnalysis.fromlistfile(\"list.cl\")\n",
    "cl_an.load_scheme(\"scheme.txt\")\n",
    "cl_an.scheme"
   ]
  },
  {
   "cell_type": "code",
   "execution_count": null,
   "metadata": {},
   "outputs": [],
   "source": [
    "cl_an.load_additions(\"additions.cl\")\n",
    "print(cl_an.conc)\n",
    "cl_an.conc = prtecan.calculate_conc(cl_an.additions, 1000)\n",
    "cl_an.conc"
   ]
  },
  {
   "cell_type": "code",
   "execution_count": null,
   "metadata": {},
   "outputs": [],
   "source": [
    "lbg = cl_an.labelblocksgroups[1]\n",
    "x = cl_an.conc\n",
    "plt.plot(x, lbg.data[\"D01\"])\n",
    "plt.plot(x, lbg.data[\"E01\"])\n",
    "plt.plot(x, lbg.data[\"D12\"])\n",
    "plt.plot(x, lbg.data[\"E12\"])\n",
    "plt.plot(x, cl_an.labelblocksgroups[1].data[\"D12\"])\n",
    "plt.plot(x, cl_an.labelblocksgroups[1].data[\"E12\"])\n",
    "plt.plot(x, lbg.data[\"A11\"])\n",
    "plt.plot(x, np.array(cl_an.labelblocksgroups[1].data[\"A11\"]) / 2, \"--\")"
   ]
  },
  {
   "cell_type": "code",
   "execution_count": null,
   "metadata": {},
   "outputs": [],
   "source": [
    "lbg.labelblocks[1].buffer"
   ]
  },
  {
   "cell_type": "code",
   "execution_count": null,
   "metadata": {},
   "outputs": [],
   "source": [
    "f = cl_an.plot_buffer()"
   ]
  },
  {
   "cell_type": "markdown",
   "metadata": {},
   "source": [
    "## Fitting"
   ]
  },
  {
   "cell_type": "markdown",
   "metadata": {},
   "source": [
    "TitrationAnalysis class need API changes to better rationalize its use."
   ]
  },
  {
   "cell_type": "code",
   "execution_count": null,
   "metadata": {},
   "outputs": [],
   "source": [
    "ph_an.fit(\"pH\", fin=-1, tval=0.95)\n",
    "type(ph_an.fittings)"
   ]
  },
  {
   "cell_type": "code",
   "execution_count": null,
   "metadata": {},
   "outputs": [],
   "source": [
    "# ph_an.fittings[1].to_csv('fit1-1.csv')\n",
    "ph_an.fittings[1]"
   ]
  },
  {
   "cell_type": "code",
   "execution_count": null,
   "metadata": {},
   "outputs": [],
   "source": [
    "ph_an.fittings[1].loc[[\"H06\", \"A01\"]]"
   ]
  },
  {
   "cell_type": "code",
   "execution_count": null,
   "metadata": {},
   "outputs": [],
   "source": [
    "key = \"H06\"\n",
    "lbg = ph_an.labelblocksgroups[1]\n",
    "x = ph_an.conc\n",
    "y = lbg.data[key]\n",
    "dd = prtecan.prtecan.fit_titration(\"pH\", x[:-1], y[:-1])\n",
    "dd"
   ]
  },
  {
   "cell_type": "code",
   "execution_count": null,
   "metadata": {},
   "outputs": [],
   "source": [
    "ph_an.plot_well(\"H06\")"
   ]
  },
  {
   "cell_type": "code",
   "execution_count": null,
   "metadata": {},
   "outputs": [],
   "source": [
    "f = ph_an.plot_k(1, title=\"2014-12-23\")"
   ]
  },
  {
   "cell_type": "code",
   "execution_count": null,
   "metadata": {},
   "outputs": [],
   "source": [
    "cl_an.fit(\"Cl\", fin=None)"
   ]
  },
  {
   "cell_type": "code",
   "execution_count": null,
   "metadata": {},
   "outputs": [],
   "source": [
    "cl_an.plot_all_wells(\"cl.pdf\")"
   ]
  },
  {
   "cell_type": "code",
   "execution_count": null,
   "metadata": {},
   "outputs": [],
   "source": [
    "ph_an.print_fitting(2)"
   ]
  },
  {
   "cell_type": "markdown",
   "metadata": {},
   "source": [
    "### selection"
   ]
  },
  {
   "cell_type": "code",
   "execution_count": null,
   "metadata": {},
   "outputs": [],
   "source": [
    "f = ph_an.plot_ebar(0)"
   ]
  },
  {
   "cell_type": "code",
   "execution_count": null,
   "metadata": {},
   "outputs": [],
   "source": [
    "f = ph_an.plot_ebar(2, xmin=7.7, ymin=25)"
   ]
  },
  {
   "cell_type": "code",
   "execution_count": null,
   "metadata": {},
   "outputs": [],
   "source": [
    "import seaborn as sb\n",
    "\n",
    "sb.set_style(\"whitegrid\")\n",
    "g = sb.PairGrid(\n",
    "    ph_an.fittings[0],\n",
    "    x_vars=[\"K\", \"SA\", \"SB\"],\n",
    "    y_vars=[\"K\", \"SA\", \"SB\"],\n",
    "    # hue='SB',\n",
    "    palette=\"Blues\",\n",
    "    diag_sharey=False,\n",
    ")\n",
    "\n",
    "g.map_lower(plt.scatter)\n",
    "g.map_upper(sb.kdeplot, fill=True)\n",
    "g.map_diag(sb.kdeplot)"
   ]
  },
  {
   "cell_type": "markdown",
   "metadata": {},
   "source": [
    "Fit first (0) and second (1) dataset and global (2)."
   ]
  },
  {
   "cell_type": "code",
   "execution_count": null,
   "metadata": {},
   "outputs": [],
   "source": [
    "with sb.axes_style(\"darkgrid\"):\n",
    "    g = sb.pairplot(\n",
    "        ph_an.fittings[2][[\"SA\", \"SB\", \"K\", \"SA2\", \"SB2\"]],\n",
    "        # hue='SB',\n",
    "        palette=\"Reds\",\n",
    "        corner=True,\n",
    "        diag_kind=\"kde\",\n",
    "    )"
   ]
  },
  {
   "cell_type": "code",
   "execution_count": null,
   "metadata": {},
   "outputs": [],
   "source": [
    "from pandas.plotting import scatter_matrix\n",
    "\n",
    "\n",
    "def plot_matrix(tit, lb):\n",
    "    df = tit.fittings[lb].loc[tit.keys_unk]\n",
    "    try:\n",
    "        f = scatter_matrix(\n",
    "            df[[\"K\", \"SA\", \"SB\", \"SA2\", \"SB2\"]],\n",
    "            figsize=(14, 14),\n",
    "            diagonal=\"kde\",\n",
    "            alpha=0.8,\n",
    "        )\n",
    "    except KeyError:\n",
    "        f = scatter_matrix(\n",
    "            df[[\"K\", \"SA\", \"SB\"]], figsize=(10, 10), diagonal=\"kde\", alpha=0.8\n",
    "        )\n",
    "    return f\n",
    "\n",
    "\n",
    "f = plot_matrix(ph_an, 2)"
   ]
  },
  {
   "cell_type": "markdown",
   "metadata": {},
   "source": [
    "### combining"
   ]
  },
  {
   "cell_type": "code",
   "execution_count": null,
   "metadata": {},
   "outputs": [],
   "source": [
    "res_unk = ph_an.fittings[1].loc[ph_an.keys_unk].sort_index()\n",
    "res_unk[\"well\"] = res_unk.index"
   ]
  },
  {
   "cell_type": "code",
   "execution_count": null,
   "metadata": {},
   "outputs": [],
   "source": [
    "# g = sns.FacetGrid(data=res2, row='well',  margin_titles=True)\n",
    "# g.map(plt.errorbar, 'K', range(1), xerr='sK', palette='Oranges_d') # x, y,\n",
    "f = plt.figure(figsize=(24, 14))\n",
    "\n",
    "# Make the PairGrid\n",
    "g = sb.PairGrid(\n",
    "    res_unk,\n",
    "    x_vars=[\"K\", \"SA\", \"SB\"],\n",
    "    y_vars=\"well\",\n",
    "    height=12,\n",
    "    aspect=0.4,\n",
    ")\n",
    "\n",
    "\n",
    "# Draw a dot plot using the stripplot function\n",
    "g.map(sb.stripplot, size=14, orient=\"h\", palette=\"Set2\", edgecolor=\"gray\")\n",
    "\n",
    "# Use the same x axis limits on all columns and add better labels\n",
    "# g.set(xlim=(0, 25), xlabel=\"Crashes\", ylabel=\"\")\n",
    "\n",
    "# Use semantically meaningful titles for the columns\n",
    "titles = [\"$pK_a$\", \"B$_{neutral}$\", \"B$_{anionic}$\"]\n",
    "\n",
    "\n",
    "for ax, title in zip(g.axes.flat, titles):\n",
    "    # Set a different title for each axes\n",
    "    ax.set(title=title)\n",
    "\n",
    "    # Make the grid horizontal instead of vertical\n",
    "    ax.xaxis.grid(False)\n",
    "    ax.yaxis.grid(True)\n",
    "\n",
    "sb.despine(left=True, bottom=True)"
   ]
  }
 ],
 "metadata": {
  "kernelspec": {
   "display_name": "Python 3 (ipykernel)",
   "language": "python",
   "name": "python3"
  },
  "language_info": {
   "codemirror_mode": {
    "name": "ipython",
    "version": 3
   },
   "file_extension": ".py",
   "mimetype": "text/x-python",
   "name": "python",
   "nbconvert_exporter": "python",
   "pygments_lexer": "ipython3",
   "version": "3.11.3"
  }
 },
 "nbformat": 4,
 "nbformat_minor": 4
}
